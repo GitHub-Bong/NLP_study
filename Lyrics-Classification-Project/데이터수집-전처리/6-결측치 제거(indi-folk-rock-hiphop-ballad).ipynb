{
 "cells": [
  {
   "cell_type": "code",
   "execution_count": 1,
   "metadata": {},
   "outputs": [],
   "source": [
    "import pandas as pd"
   ]
  },
  {
   "cell_type": "code",
   "execution_count": 3,
   "metadata": {},
   "outputs": [],
   "source": [
    "indi = pd.read_csv('indi.csv',encoding='utf-8',index_col=0)\n",
    "folk = pd.read_csv('folk.csv',encoding='utf-8',index_col=0)\n",
    "rock = pd.read_csv('rock.csv',encoding='utf-8',index_col=0)\n",
    "hiphop = pd.read_csv('hiphop.csv',encoding='utf-8',index_col=0)\n",
    "ballad = pd.read_csv('ballad_final_19제거.csv',encoding='utf-8',index_col=0)"
   ]
  },
  {
   "cell_type": "markdown",
   "metadata": {},
   "source": [
    "# indi 결측치 제거"
   ]
  },
  {
   "cell_type": "code",
   "execution_count": 4,
   "metadata": {},
   "outputs": [
    {
     "data": {
      "text/html": [
       "<div>\n",
       "<style scoped>\n",
       "    .dataframe tbody tr th:only-of-type {\n",
       "        vertical-align: middle;\n",
       "    }\n",
       "\n",
       "    .dataframe tbody tr th {\n",
       "        vertical-align: top;\n",
       "    }\n",
       "\n",
       "    .dataframe thead th {\n",
       "        text-align: right;\n",
       "    }\n",
       "</style>\n",
       "<table border=\"1\" class=\"dataframe\">\n",
       "  <thead>\n",
       "    <tr style=\"text-align: right;\">\n",
       "      <th></th>\n",
       "      <th>제목</th>\n",
       "      <th>가수</th>\n",
       "      <th>곡 번호</th>\n",
       "      <th>가사</th>\n",
       "    </tr>\n",
       "  </thead>\n",
       "  <tbody>\n",
       "    <tr>\n",
       "      <th>0</th>\n",
       "      <td>나랑 같이 걸을래 (바른연애 길잡이 X 적재)</td>\n",
       "      <td>적재</td>\n",
       "      <td>33011180</td>\n",
       "      <td>\\r\\n\\t\\t\\t\\t\\t\\t\\t가을밤이 찾아와그대를 비추고또 나를 감싸네눈을 감을...</td>\n",
       "    </tr>\n",
       "    <tr>\n",
       "      <th>1</th>\n",
       "      <td>오래된 노래</td>\n",
       "      <td>스탠딩 에그</td>\n",
       "      <td>3894276</td>\n",
       "      <td>\\r\\n\\t\\t\\t\\t\\t\\t\\t오래 전에 함께 듣던 노래가발걸음을 다시 멈춰서게 ...</td>\n",
       "    </tr>\n",
       "  </tbody>\n",
       "</table>\n",
       "</div>"
      ],
      "text/plain": [
       "                          제목      가수      곡 번호  \\\n",
       "0  나랑 같이 걸을래 (바른연애 길잡이 X 적재)      적재  33011180   \n",
       "1                     오래된 노래  스탠딩 에그   3894276   \n",
       "\n",
       "                                                  가사  \n",
       "0  \\r\\n\\t\\t\\t\\t\\t\\t\\t가을밤이 찾아와그대를 비추고또 나를 감싸네눈을 감을...  \n",
       "1  \\r\\n\\t\\t\\t\\t\\t\\t\\t오래 전에 함께 듣던 노래가발걸음을 다시 멈춰서게 ...  "
      ]
     },
     "execution_count": 4,
     "metadata": {},
     "output_type": "execute_result"
    }
   ],
   "source": [
    "indi.head(2)"
   ]
  },
  {
   "cell_type": "code",
   "execution_count": 5,
   "metadata": {},
   "outputs": [
    {
     "data": {
      "text/plain": [
       "(15000, 4)"
      ]
     },
     "execution_count": 5,
     "metadata": {},
     "output_type": "execute_result"
    }
   ],
   "source": [
    "indi.shape"
   ]
  },
  {
   "cell_type": "code",
   "execution_count": 20,
   "metadata": {
    "scrolled": true
   },
   "outputs": [
    {
     "data": {
      "text/plain": [
       "(14827, 4)"
      ]
     },
     "execution_count": 20,
     "metadata": {},
     "output_type": "execute_result"
    }
   ],
   "source": [
    "indi.loc[indi['가사'] != '가사 확인 불가'].shape"
   ]
  },
  {
   "cell_type": "code",
   "execution_count": 21,
   "metadata": {},
   "outputs": [],
   "source": [
    "indi = indi.loc[indi['가사'] != '가사 확인 불가']"
   ]
  },
  {
   "cell_type": "code",
   "execution_count": 22,
   "metadata": {},
   "outputs": [],
   "source": [
    "indi['장르'] = 'indi'"
   ]
  },
  {
   "cell_type": "code",
   "execution_count": 23,
   "metadata": {
    "scrolled": true
   },
   "outputs": [
    {
     "data": {
      "text/html": [
       "<div>\n",
       "<style scoped>\n",
       "    .dataframe tbody tr th:only-of-type {\n",
       "        vertical-align: middle;\n",
       "    }\n",
       "\n",
       "    .dataframe tbody tr th {\n",
       "        vertical-align: top;\n",
       "    }\n",
       "\n",
       "    .dataframe thead th {\n",
       "        text-align: right;\n",
       "    }\n",
       "</style>\n",
       "<table border=\"1\" class=\"dataframe\">\n",
       "  <thead>\n",
       "    <tr style=\"text-align: right;\">\n",
       "      <th></th>\n",
       "      <th>제목</th>\n",
       "      <th>가수</th>\n",
       "      <th>곡 번호</th>\n",
       "      <th>가사</th>\n",
       "      <th>장르</th>\n",
       "    </tr>\n",
       "  </thead>\n",
       "  <tbody>\n",
       "    <tr>\n",
       "      <th>0</th>\n",
       "      <td>나랑 같이 걸을래 (바른연애 길잡이 X 적재)</td>\n",
       "      <td>적재</td>\n",
       "      <td>33011180</td>\n",
       "      <td>\\r\\n\\t\\t\\t\\t\\t\\t\\t가을밤이 찾아와그대를 비추고또 나를 감싸네눈을 감을...</td>\n",
       "      <td>indi</td>\n",
       "    </tr>\n",
       "    <tr>\n",
       "      <th>1</th>\n",
       "      <td>오래된 노래</td>\n",
       "      <td>스탠딩 에그</td>\n",
       "      <td>3894276</td>\n",
       "      <td>\\r\\n\\t\\t\\t\\t\\t\\t\\t오래 전에 함께 듣던 노래가발걸음을 다시 멈춰서게 ...</td>\n",
       "      <td>indi</td>\n",
       "    </tr>\n",
       "    <tr>\n",
       "      <th>2</th>\n",
       "      <td>너의 번호를 누르고 (Prod. 영화처럼)</td>\n",
       "      <td>#안녕</td>\n",
       "      <td>32224166</td>\n",
       "      <td>\\r\\n\\t\\t\\t\\t\\t\\t\\t우연히 너를 만나서너의 옆자리에 앉아그렇게 우린 친...</td>\n",
       "      <td>indi</td>\n",
       "    </tr>\n",
       "  </tbody>\n",
       "</table>\n",
       "</div>"
      ],
      "text/plain": [
       "                          제목      가수      곡 번호  \\\n",
       "0  나랑 같이 걸을래 (바른연애 길잡이 X 적재)      적재  33011180   \n",
       "1                     오래된 노래  스탠딩 에그   3894276   \n",
       "2    너의 번호를 누르고 (Prod. 영화처럼)     #안녕  32224166   \n",
       "\n",
       "                                                  가사    장르  \n",
       "0  \\r\\n\\t\\t\\t\\t\\t\\t\\t가을밤이 찾아와그대를 비추고또 나를 감싸네눈을 감을...  indi  \n",
       "1  \\r\\n\\t\\t\\t\\t\\t\\t\\t오래 전에 함께 듣던 노래가발걸음을 다시 멈춰서게 ...  indi  \n",
       "2  \\r\\n\\t\\t\\t\\t\\t\\t\\t우연히 너를 만나서너의 옆자리에 앉아그렇게 우린 친...  indi  "
      ]
     },
     "execution_count": 23,
     "metadata": {},
     "output_type": "execute_result"
    }
   ],
   "source": [
    "indi.head(3)"
   ]
  },
  {
   "cell_type": "code",
   "execution_count": 24,
   "metadata": {},
   "outputs": [],
   "source": [
    "indi.to_csv('indi14827개.csv', encoding='utf-8')"
   ]
  },
  {
   "cell_type": "markdown",
   "metadata": {},
   "source": [
    "# folk 결측치 제거"
   ]
  },
  {
   "cell_type": "code",
   "execution_count": 6,
   "metadata": {},
   "outputs": [
    {
     "data": {
      "text/html": [
       "<div>\n",
       "<style scoped>\n",
       "    .dataframe tbody tr th:only-of-type {\n",
       "        vertical-align: middle;\n",
       "    }\n",
       "\n",
       "    .dataframe tbody tr th {\n",
       "        vertical-align: top;\n",
       "    }\n",
       "\n",
       "    .dataframe thead th {\n",
       "        text-align: right;\n",
       "    }\n",
       "</style>\n",
       "<table border=\"1\" class=\"dataframe\">\n",
       "  <thead>\n",
       "    <tr style=\"text-align: right;\">\n",
       "      <th></th>\n",
       "      <th>제목</th>\n",
       "      <th>가수</th>\n",
       "      <th>곡 번호</th>\n",
       "      <th>가사</th>\n",
       "    </tr>\n",
       "  </thead>\n",
       "  <tbody>\n",
       "    <tr>\n",
       "      <th>0</th>\n",
       "      <td>오래된 노래</td>\n",
       "      <td>스탠딩 에그</td>\n",
       "      <td>3894276</td>\n",
       "      <td>\\r\\n\\t\\t\\t\\t\\t\\t\\t오래 전에 함께 듣던 노래가발걸음을 다시 멈춰서게 ...</td>\n",
       "    </tr>\n",
       "    <tr>\n",
       "      <th>1</th>\n",
       "      <td>Gone</td>\n",
       "      <td>로제 (ROSÉ)</td>\n",
       "      <td>33346447</td>\n",
       "      <td>\\r\\n\\t\\t\\t\\t\\t\\t\\tI thought that you remember ...</td>\n",
       "    </tr>\n",
       "  </tbody>\n",
       "</table>\n",
       "</div>"
      ],
      "text/plain": [
       "       제목         가수      곡 번호  \\\n",
       "0  오래된 노래     스탠딩 에그   3894276   \n",
       "1    Gone  로제 (ROSÉ)  33346447   \n",
       "\n",
       "                                                  가사  \n",
       "0  \\r\\n\\t\\t\\t\\t\\t\\t\\t오래 전에 함께 듣던 노래가발걸음을 다시 멈춰서게 ...  \n",
       "1  \\r\\n\\t\\t\\t\\t\\t\\t\\tI thought that you remember ...  "
      ]
     },
     "execution_count": 6,
     "metadata": {},
     "output_type": "execute_result"
    }
   ],
   "source": [
    "folk.head(2)"
   ]
  },
  {
   "cell_type": "code",
   "execution_count": 7,
   "metadata": {
    "scrolled": true
   },
   "outputs": [
    {
     "data": {
      "text/plain": [
       "(15000, 4)"
      ]
     },
     "execution_count": 7,
     "metadata": {},
     "output_type": "execute_result"
    }
   ],
   "source": [
    "folk.shape"
   ]
  },
  {
   "cell_type": "code",
   "execution_count": 25,
   "metadata": {},
   "outputs": [
    {
     "data": {
      "text/plain": [
       "(12872, 4)"
      ]
     },
     "execution_count": 25,
     "metadata": {},
     "output_type": "execute_result"
    }
   ],
   "source": [
    "folk.loc[folk['가사'] != '가사 확인 불가'].shape"
   ]
  },
  {
   "cell_type": "code",
   "execution_count": 26,
   "metadata": {},
   "outputs": [],
   "source": [
    "folk = folk.loc[folk['가사'] != '가사 확인 불가']"
   ]
  },
  {
   "cell_type": "code",
   "execution_count": 27,
   "metadata": {},
   "outputs": [],
   "source": [
    "folk['장르'] = 'folk'"
   ]
  },
  {
   "cell_type": "code",
   "execution_count": 28,
   "metadata": {
    "scrolled": true
   },
   "outputs": [
    {
     "data": {
      "text/html": [
       "<div>\n",
       "<style scoped>\n",
       "    .dataframe tbody tr th:only-of-type {\n",
       "        vertical-align: middle;\n",
       "    }\n",
       "\n",
       "    .dataframe tbody tr th {\n",
       "        vertical-align: top;\n",
       "    }\n",
       "\n",
       "    .dataframe thead th {\n",
       "        text-align: right;\n",
       "    }\n",
       "</style>\n",
       "<table border=\"1\" class=\"dataframe\">\n",
       "  <thead>\n",
       "    <tr style=\"text-align: right;\">\n",
       "      <th></th>\n",
       "      <th>제목</th>\n",
       "      <th>가수</th>\n",
       "      <th>곡 번호</th>\n",
       "      <th>가사</th>\n",
       "      <th>장르</th>\n",
       "    </tr>\n",
       "  </thead>\n",
       "  <tbody>\n",
       "    <tr>\n",
       "      <th>0</th>\n",
       "      <td>오래된 노래</td>\n",
       "      <td>스탠딩 에그</td>\n",
       "      <td>3894276</td>\n",
       "      <td>\\r\\n\\t\\t\\t\\t\\t\\t\\t오래 전에 함께 듣던 노래가발걸음을 다시 멈춰서게 ...</td>\n",
       "      <td>folk</td>\n",
       "    </tr>\n",
       "    <tr>\n",
       "      <th>1</th>\n",
       "      <td>Gone</td>\n",
       "      <td>로제 (ROSÉ)</td>\n",
       "      <td>33346447</td>\n",
       "      <td>\\r\\n\\t\\t\\t\\t\\t\\t\\tI thought that you remember ...</td>\n",
       "      <td>folk</td>\n",
       "    </tr>\n",
       "    <tr>\n",
       "      <th>2</th>\n",
       "      <td>폰서트</td>\n",
       "      <td>10CM</td>\n",
       "      <td>30611680</td>\n",
       "      <td>\\r\\n\\t\\t\\t\\t\\t\\t\\t이건 세상에서제일 비싼 단독 공연가수는 나고 관객은...</td>\n",
       "      <td>folk</td>\n",
       "    </tr>\n",
       "  </tbody>\n",
       "</table>\n",
       "</div>"
      ],
      "text/plain": [
       "       제목         가수      곡 번호  \\\n",
       "0  오래된 노래     스탠딩 에그   3894276   \n",
       "1    Gone  로제 (ROSÉ)  33346447   \n",
       "2     폰서트       10CM  30611680   \n",
       "\n",
       "                                                  가사    장르  \n",
       "0  \\r\\n\\t\\t\\t\\t\\t\\t\\t오래 전에 함께 듣던 노래가발걸음을 다시 멈춰서게 ...  folk  \n",
       "1  \\r\\n\\t\\t\\t\\t\\t\\t\\tI thought that you remember ...  folk  \n",
       "2  \\r\\n\\t\\t\\t\\t\\t\\t\\t이건 세상에서제일 비싼 단독 공연가수는 나고 관객은...  folk  "
      ]
     },
     "execution_count": 28,
     "metadata": {},
     "output_type": "execute_result"
    }
   ],
   "source": [
    "folk.head(3)"
   ]
  },
  {
   "cell_type": "code",
   "execution_count": 35,
   "metadata": {},
   "outputs": [],
   "source": [
    "folk.to_csv('folk12872개.csv', encoding='utf-8')"
   ]
  },
  {
   "cell_type": "markdown",
   "metadata": {},
   "source": [
    "# rock 결측치 제거"
   ]
  },
  {
   "cell_type": "code",
   "execution_count": 29,
   "metadata": {},
   "outputs": [
    {
     "data": {
      "text/html": [
       "<div>\n",
       "<style scoped>\n",
       "    .dataframe tbody tr th:only-of-type {\n",
       "        vertical-align: middle;\n",
       "    }\n",
       "\n",
       "    .dataframe tbody tr th {\n",
       "        vertical-align: top;\n",
       "    }\n",
       "\n",
       "    .dataframe thead th {\n",
       "        text-align: right;\n",
       "    }\n",
       "</style>\n",
       "<table border=\"1\" class=\"dataframe\">\n",
       "  <thead>\n",
       "    <tr style=\"text-align: right;\">\n",
       "      <th></th>\n",
       "      <th>제목</th>\n",
       "      <th>가수</th>\n",
       "      <th>곡 번호</th>\n",
       "      <th>가사</th>\n",
       "    </tr>\n",
       "  </thead>\n",
       "  <tbody>\n",
       "    <tr>\n",
       "      <th>0</th>\n",
       "      <td>On The Ground</td>\n",
       "      <td>로제 (ROSÉ)</td>\n",
       "      <td>33346446</td>\n",
       "      <td>\\r\\n\\t\\t\\t\\t\\t\\t\\tMy life's been magic seems f...</td>\n",
       "    </tr>\n",
       "    <tr>\n",
       "      <th>1</th>\n",
       "      <td>Blueming</td>\n",
       "      <td>아이유</td>\n",
       "      <td>32183386</td>\n",
       "      <td>\\r\\n\\t\\t\\t\\t\\t\\t\\t‘뭐해?‘라는 두 글자에‘네가 보고 싶어’ 나의 속...</td>\n",
       "    </tr>\n",
       "  </tbody>\n",
       "</table>\n",
       "</div>"
      ],
      "text/plain": [
       "              제목         가수      곡 번호  \\\n",
       "0  On The Ground  로제 (ROSÉ)  33346446   \n",
       "1       Blueming        아이유  32183386   \n",
       "\n",
       "                                                  가사  \n",
       "0  \\r\\n\\t\\t\\t\\t\\t\\t\\tMy life's been magic seems f...  \n",
       "1  \\r\\n\\t\\t\\t\\t\\t\\t\\t‘뭐해?‘라는 두 글자에‘네가 보고 싶어’ 나의 속...  "
      ]
     },
     "execution_count": 29,
     "metadata": {},
     "output_type": "execute_result"
    }
   ],
   "source": [
    "rock.head(2)"
   ]
  },
  {
   "cell_type": "code",
   "execution_count": 10,
   "metadata": {
    "scrolled": true
   },
   "outputs": [
    {
     "data": {
      "text/plain": [
       "(15000, 4)"
      ]
     },
     "execution_count": 10,
     "metadata": {},
     "output_type": "execute_result"
    }
   ],
   "source": [
    "rock.shape"
   ]
  },
  {
   "cell_type": "code",
   "execution_count": 31,
   "metadata": {},
   "outputs": [
    {
     "data": {
      "text/plain": [
       "(13962, 4)"
      ]
     },
     "execution_count": 31,
     "metadata": {},
     "output_type": "execute_result"
    }
   ],
   "source": [
    "rock.loc[rock['가사'] != '가사 확인 불가'].shape"
   ]
  },
  {
   "cell_type": "code",
   "execution_count": 32,
   "metadata": {},
   "outputs": [],
   "source": [
    "rock = rock.loc[rock['가사'] != '가사 확인 불가']"
   ]
  },
  {
   "cell_type": "code",
   "execution_count": 33,
   "metadata": {},
   "outputs": [],
   "source": [
    "rock['장르'] = 'rock'"
   ]
  },
  {
   "cell_type": "code",
   "execution_count": 34,
   "metadata": {},
   "outputs": [
    {
     "data": {
      "text/html": [
       "<div>\n",
       "<style scoped>\n",
       "    .dataframe tbody tr th:only-of-type {\n",
       "        vertical-align: middle;\n",
       "    }\n",
       "\n",
       "    .dataframe tbody tr th {\n",
       "        vertical-align: top;\n",
       "    }\n",
       "\n",
       "    .dataframe thead th {\n",
       "        text-align: right;\n",
       "    }\n",
       "</style>\n",
       "<table border=\"1\" class=\"dataframe\">\n",
       "  <thead>\n",
       "    <tr style=\"text-align: right;\">\n",
       "      <th></th>\n",
       "      <th>제목</th>\n",
       "      <th>가수</th>\n",
       "      <th>곡 번호</th>\n",
       "      <th>가사</th>\n",
       "      <th>장르</th>\n",
       "    </tr>\n",
       "  </thead>\n",
       "  <tbody>\n",
       "    <tr>\n",
       "      <th>0</th>\n",
       "      <td>On The Ground</td>\n",
       "      <td>로제 (ROSÉ)</td>\n",
       "      <td>33346446</td>\n",
       "      <td>\\r\\n\\t\\t\\t\\t\\t\\t\\tMy life's been magic seems f...</td>\n",
       "      <td>rock</td>\n",
       "    </tr>\n",
       "    <tr>\n",
       "      <th>1</th>\n",
       "      <td>Blueming</td>\n",
       "      <td>아이유</td>\n",
       "      <td>32183386</td>\n",
       "      <td>\\r\\n\\t\\t\\t\\t\\t\\t\\t‘뭐해?‘라는 두 글자에‘네가 보고 싶어’ 나의 속...</td>\n",
       "      <td>rock</td>\n",
       "    </tr>\n",
       "    <tr>\n",
       "      <th>2</th>\n",
       "      <td>에잇(Prod.&amp;Feat. SUGA of BTS)</td>\n",
       "      <td>아이유</td>\n",
       "      <td>32578498</td>\n",
       "      <td>\\r\\n\\t\\t\\t\\t\\t\\t\\tSo are you happy nowFinally ...</td>\n",
       "      <td>rock</td>\n",
       "    </tr>\n",
       "  </tbody>\n",
       "</table>\n",
       "</div>"
      ],
      "text/plain": [
       "                            제목         가수      곡 번호  \\\n",
       "0                On The Ground  로제 (ROSÉ)  33346446   \n",
       "1                     Blueming        아이유  32183386   \n",
       "2  에잇(Prod.&Feat. SUGA of BTS)        아이유  32578498   \n",
       "\n",
       "                                                  가사    장르  \n",
       "0  \\r\\n\\t\\t\\t\\t\\t\\t\\tMy life's been magic seems f...  rock  \n",
       "1  \\r\\n\\t\\t\\t\\t\\t\\t\\t‘뭐해?‘라는 두 글자에‘네가 보고 싶어’ 나의 속...  rock  \n",
       "2  \\r\\n\\t\\t\\t\\t\\t\\t\\tSo are you happy nowFinally ...  rock  "
      ]
     },
     "execution_count": 34,
     "metadata": {},
     "output_type": "execute_result"
    }
   ],
   "source": [
    "rock.head(3)"
   ]
  },
  {
   "cell_type": "code",
   "execution_count": 37,
   "metadata": {},
   "outputs": [],
   "source": [
    "rock.to_csv('rock13962개.csv', encoding='utf-8')"
   ]
  },
  {
   "cell_type": "markdown",
   "metadata": {},
   "source": [
    "# hiphop 결측치 제거"
   ]
  },
  {
   "cell_type": "code",
   "execution_count": 11,
   "metadata": {},
   "outputs": [
    {
     "data": {
      "text/html": [
       "<div>\n",
       "<style scoped>\n",
       "    .dataframe tbody tr th:only-of-type {\n",
       "        vertical-align: middle;\n",
       "    }\n",
       "\n",
       "    .dataframe tbody tr th {\n",
       "        vertical-align: top;\n",
       "    }\n",
       "\n",
       "    .dataframe thead th {\n",
       "        text-align: right;\n",
       "    }\n",
       "</style>\n",
       "<table border=\"1\" class=\"dataframe\">\n",
       "  <thead>\n",
       "    <tr style=\"text-align: right;\">\n",
       "      <th></th>\n",
       "      <th>제목</th>\n",
       "      <th>가수</th>\n",
       "      <th>가사</th>\n",
       "      <th>장르</th>\n",
       "    </tr>\n",
       "  </thead>\n",
       "  <tbody>\n",
       "    <tr>\n",
       "      <th>0</th>\n",
       "      <td>멜로디</td>\n",
       "      <td>ASH ISLAND</td>\n",
       "      <td>어딘가 들어본 듯한 이 Melody\\n떠올라 작은 기억들이 My memories\\n...</td>\n",
       "      <td>rap/hiphop</td>\n",
       "    </tr>\n",
       "    <tr>\n",
       "      <th>1</th>\n",
       "      <td>마.피.아. In the morning</td>\n",
       "      <td>ITZY (있지)</td>\n",
       "      <td>Shhhhhhh\\nGuess who loves you 나야 나\\nDo I show ...</td>\n",
       "      <td>rap/hiphop</td>\n",
       "    </tr>\n",
       "  </tbody>\n",
       "</table>\n",
       "</div>"
      ],
      "text/plain": [
       "                      제목          가수  \\\n",
       "0                    멜로디  ASH ISLAND   \n",
       "1  마.피.아. In the morning   ITZY (있지)   \n",
       "\n",
       "                                                  가사          장르  \n",
       "0  어딘가 들어본 듯한 이 Melody\\n떠올라 작은 기억들이 My memories\\n...  rap/hiphop  \n",
       "1  Shhhhhhh\\nGuess who loves you 나야 나\\nDo I show ...  rap/hiphop  "
      ]
     },
     "execution_count": 11,
     "metadata": {},
     "output_type": "execute_result"
    }
   ],
   "source": [
    "hiphop.head(2)"
   ]
  },
  {
   "cell_type": "code",
   "execution_count": 12,
   "metadata": {
    "scrolled": true
   },
   "outputs": [
    {
     "data": {
      "text/plain": [
       "(15000, 4)"
      ]
     },
     "execution_count": 12,
     "metadata": {},
     "output_type": "execute_result"
    }
   ],
   "source": [
    "hiphop.shape"
   ]
  },
  {
   "cell_type": "code",
   "execution_count": 43,
   "metadata": {},
   "outputs": [
    {
     "data": {
      "text/plain": [
       "(14980, 4)"
      ]
     },
     "execution_count": 43,
     "metadata": {},
     "output_type": "execute_result"
    }
   ],
   "source": [
    "hiphop.loc[hiphop['가사'] != '가사 확인 불가'].shape"
   ]
  },
  {
   "cell_type": "code",
   "execution_count": 44,
   "metadata": {},
   "outputs": [],
   "source": [
    "hiphop = hiphop.loc[hiphop['가사'] != '가사 확인 불가']"
   ]
  },
  {
   "cell_type": "code",
   "execution_count": 49,
   "metadata": {},
   "outputs": [
    {
     "data": {
      "text/plain": [
       "(14325, 4)"
      ]
     },
     "execution_count": 49,
     "metadata": {},
     "output_type": "execute_result"
    }
   ],
   "source": [
    "hiphop.loc[hiphop['가사'] != '가사없음'].shape"
   ]
  },
  {
   "cell_type": "code",
   "execution_count": 50,
   "metadata": {},
   "outputs": [],
   "source": [
    "hiphop = hiphop.loc[hiphop['가사'] != '가사없음']"
   ]
  },
  {
   "cell_type": "code",
   "execution_count": 51,
   "metadata": {},
   "outputs": [],
   "source": [
    "hiphop['장르'] = 'hiphop'"
   ]
  },
  {
   "cell_type": "code",
   "execution_count": 52,
   "metadata": {
    "scrolled": true
   },
   "outputs": [
    {
     "data": {
      "text/html": [
       "<div>\n",
       "<style scoped>\n",
       "    .dataframe tbody tr th:only-of-type {\n",
       "        vertical-align: middle;\n",
       "    }\n",
       "\n",
       "    .dataframe tbody tr th {\n",
       "        vertical-align: top;\n",
       "    }\n",
       "\n",
       "    .dataframe thead th {\n",
       "        text-align: right;\n",
       "    }\n",
       "</style>\n",
       "<table border=\"1\" class=\"dataframe\">\n",
       "  <thead>\n",
       "    <tr style=\"text-align: right;\">\n",
       "      <th></th>\n",
       "      <th>제목</th>\n",
       "      <th>가수</th>\n",
       "      <th>가사</th>\n",
       "      <th>장르</th>\n",
       "    </tr>\n",
       "  </thead>\n",
       "  <tbody>\n",
       "    <tr>\n",
       "      <th>0</th>\n",
       "      <td>멜로디</td>\n",
       "      <td>ASH ISLAND</td>\n",
       "      <td>어딘가 들어본 듯한 이 Melody\\n떠올라 작은 기억들이 My memories\\n...</td>\n",
       "      <td>hiphop</td>\n",
       "    </tr>\n",
       "    <tr>\n",
       "      <th>1</th>\n",
       "      <td>마.피.아. In the morning</td>\n",
       "      <td>ITZY (있지)</td>\n",
       "      <td>Shhhhhhh\\nGuess who loves you 나야 나\\nDo I show ...</td>\n",
       "      <td>hiphop</td>\n",
       "    </tr>\n",
       "    <tr>\n",
       "      <th>2</th>\n",
       "      <td>사이렌 Remix (Feat. UNEDUCATED KID, Paul Blanco)</td>\n",
       "      <td>호미들</td>\n",
       "      <td>울려댔어 사이렌\\n텅 빈 길거리엔\\n도망치다 흘린 칼자루와 피가 흥건해\\n우리 그때...</td>\n",
       "      <td>hiphop</td>\n",
       "    </tr>\n",
       "  </tbody>\n",
       "</table>\n",
       "</div>"
      ],
      "text/plain": [
       "                                              제목          가수  \\\n",
       "0                                            멜로디  ASH ISLAND   \n",
       "1                          마.피.아. In the morning   ITZY (있지)   \n",
       "2  사이렌 Remix (Feat. UNEDUCATED KID, Paul Blanco)         호미들   \n",
       "\n",
       "                                                  가사      장르  \n",
       "0  어딘가 들어본 듯한 이 Melody\\n떠올라 작은 기억들이 My memories\\n...  hiphop  \n",
       "1  Shhhhhhh\\nGuess who loves you 나야 나\\nDo I show ...  hiphop  \n",
       "2  울려댔어 사이렌\\n텅 빈 길거리엔\\n도망치다 흘린 칼자루와 피가 흥건해\\n우리 그때...  hiphop  "
      ]
     },
     "execution_count": 52,
     "metadata": {},
     "output_type": "execute_result"
    }
   ],
   "source": [
    "hiphop.head(3)"
   ]
  },
  {
   "cell_type": "code",
   "execution_count": 53,
   "metadata": {},
   "outputs": [],
   "source": [
    "hiphop.to_csv('hiphop14325개.csv', encoding='utf-8')"
   ]
  },
  {
   "cell_type": "markdown",
   "metadata": {},
   "source": [
    "# ballad 결측치 제거"
   ]
  },
  {
   "cell_type": "code",
   "execution_count": 13,
   "metadata": {
    "scrolled": true
   },
   "outputs": [
    {
     "data": {
      "text/html": [
       "<div>\n",
       "<style scoped>\n",
       "    .dataframe tbody tr th:only-of-type {\n",
       "        vertical-align: middle;\n",
       "    }\n",
       "\n",
       "    .dataframe tbody tr th {\n",
       "        vertical-align: top;\n",
       "    }\n",
       "\n",
       "    .dataframe thead th {\n",
       "        text-align: right;\n",
       "    }\n",
       "</style>\n",
       "<table border=\"1\" class=\"dataframe\">\n",
       "  <thead>\n",
       "    <tr style=\"text-align: right;\">\n",
       "      <th></th>\n",
       "      <th>제목</th>\n",
       "      <th>가수</th>\n",
       "      <th>가사</th>\n",
       "      <th>장르</th>\n",
       "    </tr>\n",
       "  </thead>\n",
       "  <tbody>\n",
       "    <tr>\n",
       "      <th>0</th>\n",
       "      <td>Timeless</td>\n",
       "      <td>SG 워너비</td>\n",
       "      <td>어쩜 살아가다 보면 한 번은 날 찾을지 몰라\\n나 그 기대 하나로 오늘도 힘겹게 버...</td>\n",
       "      <td>ballad</td>\n",
       "    </tr>\n",
       "    <tr>\n",
       "      <th>1</th>\n",
       "      <td>라라라</td>\n",
       "      <td>SG 워너비</td>\n",
       "      <td>그대는 참 아름다워요\\n밤 하늘의 별빛보다 빛나요\\n지친 나의 마음을 따뜻하게 감싸...</td>\n",
       "      <td>ballad</td>\n",
       "    </tr>\n",
       "  </tbody>\n",
       "</table>\n",
       "</div>"
      ],
      "text/plain": [
       "         제목      가수                                                 가사      장르\n",
       "0  Timeless  SG 워너비  어쩜 살아가다 보면 한 번은 날 찾을지 몰라\\n나 그 기대 하나로 오늘도 힘겹게 버...  ballad\n",
       "1       라라라  SG 워너비  그대는 참 아름다워요\\n밤 하늘의 별빛보다 빛나요\\n지친 나의 마음을 따뜻하게 감싸...  ballad"
      ]
     },
     "execution_count": 13,
     "metadata": {},
     "output_type": "execute_result"
    }
   ],
   "source": [
    "ballad.head(2)"
   ]
  },
  {
   "cell_type": "code",
   "execution_count": 14,
   "metadata": {},
   "outputs": [
    {
     "data": {
      "text/plain": [
       "(14860, 4)"
      ]
     },
     "execution_count": 14,
     "metadata": {},
     "output_type": "execute_result"
    }
   ],
   "source": [
    "ballad.shape"
   ]
  },
  {
   "cell_type": "code",
   "execution_count": 58,
   "metadata": {},
   "outputs": [
    {
     "data": {
      "text/html": [
       "<div>\n",
       "<style scoped>\n",
       "    .dataframe tbody tr th:only-of-type {\n",
       "        vertical-align: middle;\n",
       "    }\n",
       "\n",
       "    .dataframe tbody tr th {\n",
       "        vertical-align: top;\n",
       "    }\n",
       "\n",
       "    .dataframe thead th {\n",
       "        text-align: right;\n",
       "    }\n",
       "</style>\n",
       "<table border=\"1\" class=\"dataframe\">\n",
       "  <thead>\n",
       "    <tr style=\"text-align: right;\">\n",
       "      <th></th>\n",
       "      <th>제목</th>\n",
       "      <th>가수</th>\n",
       "      <th>가사</th>\n",
       "      <th>장르</th>\n",
       "    </tr>\n",
       "  </thead>\n",
       "  <tbody>\n",
       "  </tbody>\n",
       "</table>\n",
       "</div>"
      ],
      "text/plain": [
       "Empty DataFrame\n",
       "Columns: [제목, 가수, 가사, 장르]\n",
       "Index: []"
      ]
     },
     "execution_count": 58,
     "metadata": {},
     "output_type": "execute_result"
    }
   ],
   "source": [
    "ballad.loc[ballad['가사'] == '가사 확인 불가']"
   ]
  },
  {
   "cell_type": "code",
   "execution_count": 59,
   "metadata": {},
   "outputs": [
    {
     "data": {
      "text/html": [
       "<div>\n",
       "<style scoped>\n",
       "    .dataframe tbody tr th:only-of-type {\n",
       "        vertical-align: middle;\n",
       "    }\n",
       "\n",
       "    .dataframe tbody tr th {\n",
       "        vertical-align: top;\n",
       "    }\n",
       "\n",
       "    .dataframe thead th {\n",
       "        text-align: right;\n",
       "    }\n",
       "</style>\n",
       "<table border=\"1\" class=\"dataframe\">\n",
       "  <thead>\n",
       "    <tr style=\"text-align: right;\">\n",
       "      <th></th>\n",
       "      <th>제목</th>\n",
       "      <th>가수</th>\n",
       "      <th>가사</th>\n",
       "      <th>장르</th>\n",
       "    </tr>\n",
       "  </thead>\n",
       "  <tbody>\n",
       "  </tbody>\n",
       "</table>\n",
       "</div>"
      ],
      "text/plain": [
       "Empty DataFrame\n",
       "Columns: [제목, 가수, 가사, 장르]\n",
       "Index: []"
      ]
     },
     "execution_count": 59,
     "metadata": {},
     "output_type": "execute_result"
    }
   ],
   "source": [
    "ballad.loc[ballad['가사'] == '19']"
   ]
  },
  {
   "cell_type": "code",
   "execution_count": 60,
   "metadata": {},
   "outputs": [
    {
     "data": {
      "text/html": [
       "<div>\n",
       "<style scoped>\n",
       "    .dataframe tbody tr th:only-of-type {\n",
       "        vertical-align: middle;\n",
       "    }\n",
       "\n",
       "    .dataframe tbody tr th {\n",
       "        vertical-align: top;\n",
       "    }\n",
       "\n",
       "    .dataframe thead th {\n",
       "        text-align: right;\n",
       "    }\n",
       "</style>\n",
       "<table border=\"1\" class=\"dataframe\">\n",
       "  <thead>\n",
       "    <tr style=\"text-align: right;\">\n",
       "      <th></th>\n",
       "      <th>제목</th>\n",
       "      <th>가수</th>\n",
       "      <th>가사</th>\n",
       "      <th>장르</th>\n",
       "    </tr>\n",
       "  </thead>\n",
       "  <tbody>\n",
       "  </tbody>\n",
       "</table>\n",
       "</div>"
      ],
      "text/plain": [
       "Empty DataFrame\n",
       "Columns: [제목, 가수, 가사, 장르]\n",
       "Index: []"
      ]
     },
     "execution_count": 60,
     "metadata": {},
     "output_type": "execute_result"
    }
   ],
   "source": [
    "ballad.loc[ballad['가사'] == '가사없음']"
   ]
  },
  {
   "cell_type": "code",
   "execution_count": 61,
   "metadata": {},
   "outputs": [],
   "source": [
    "ballad.to_csv('ballad14860개.csv',encoding='utf-8')"
   ]
  },
  {
   "cell_type": "code",
   "execution_count": null,
   "metadata": {},
   "outputs": [],
   "source": []
  }
 ],
 "metadata": {
  "kernelspec": {
   "display_name": "Python 3",
   "language": "python",
   "name": "python3"
  },
  "language_info": {
   "codemirror_mode": {
    "name": "ipython",
    "version": 3
   },
   "file_extension": ".py",
   "mimetype": "text/x-python",
   "name": "python",
   "nbconvert_exporter": "python",
   "pygments_lexer": "ipython3",
   "version": "3.8.5"
  }
 },
 "nbformat": 4,
 "nbformat_minor": 4
}
