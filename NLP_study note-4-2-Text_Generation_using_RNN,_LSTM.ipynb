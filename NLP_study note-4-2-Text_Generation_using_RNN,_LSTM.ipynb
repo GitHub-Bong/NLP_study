{
  "nbformat": 4,
  "nbformat_minor": 0,
  "metadata": {
    "colab": {
      "name": "Text Generation using RNN, LSTM.ipynb",
      "provenance": [],
      "authorship_tag": "ABX9TyNOYrY2X1Nl4frb2zAPxaZ4",
      "include_colab_link": true
    },
    "kernelspec": {
      "name": "python3",
      "display_name": "Python 3"
    },
    "language_info": {
      "name": "python"
    },
    "accelerator": "GPU"
  },
  "cells": [
    {
      "cell_type": "markdown",
      "metadata": {
        "id": "view-in-github",
        "colab_type": "text"
      },
      "source": [
        "<a href=\"https://colab.research.google.com/github/GitHub-Bong/NLP_study/blob/master/NLP_study%20note-4-2-Text_Generation_using_RNN%2C_LSTM.ipynb\" target=\"_parent\"><img src=\"https://colab.research.google.com/assets/colab-badge.svg\" alt=\"Open In Colab\"/></a>"
      ]
    },
    {
      "cell_type": "markdown",
      "metadata": {
        "id": "OPJNqHdjzZ67"
      },
      "source": [
        "# RNN 이용한 텍스트 생성"
      ]
    },
    {
      "cell_type": "markdown",
      "metadata": {
        "id": "1UUWNiNWvvzZ"
      },
      "source": [
        "__다 대 일(many-to-one) 구조의 RNN 사용__"
      ]
    },
    {
      "cell_type": "markdown",
      "metadata": {
        "id": "3ajIFNxkvqw5"
      },
      "source": [
        "![image.png](data:image/png;base64,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)"
      ]
    },
    {
      "cell_type": "markdown",
      "metadata": {
        "id": "WflA2jnOwjTR"
      },
      "source": [
        "## 1) 데이터에 대한 이해와 전처리"
      ]
    },
    {
      "cell_type": "code",
      "metadata": {
        "id": "NMg850u-vcEB"
      },
      "source": [
        "from tensorflow.keras.preprocessing.text import Tokenizer\n",
        "from tensorflow.keras.preprocessing.sequence import pad_sequences\n",
        "import numpy as np\n",
        "from tensorflow.keras.utils import to_categorical"
      ],
      "execution_count": 1,
      "outputs": []
    },
    {
      "cell_type": "code",
      "metadata": {
        "id": "pBTMJSusv_FZ"
      },
      "source": [
        "text=\"\"\"경마장에 있는 말이 뛰고 있다\\n\n",
        "그의 말이 법이다\\n\n",
        "가는 말이 고와야 오는 말이 곱다\\n\"\"\""
      ],
      "execution_count": 57,
      "outputs": []
    },
    {
      "cell_type": "code",
      "metadata": {
        "colab": {
          "base_uri": "https://localhost:8080/"
        },
        "id": "i7_Vq7zuwAUo",
        "outputId": "4b808760-18c4-43ee-cd2b-dc143a49bc61"
      },
      "source": [
        "t = Tokenizer()\n",
        "t.fit_on_texts([text])\n",
        "vocab_size = len(t.word_index) + 1\n",
        "# 케라스 토크나이저의 정수 인코딩은 인덱스가 1부터 시작하지만,\n",
        "# 케라스 원-핫 인코딩에서 배열의 인덱스가 0부터 시작하기 때문에\n",
        "# 배열의 크기를 실제 단어 집합의 크기보다 +1로 생성해야하므로 미리 +1 선언 \n",
        "print('단어 집합의 크기 : %d' % vocab_size)"
      ],
      "execution_count": 58,
      "outputs": [
        {
          "output_type": "stream",
          "text": [
            "단어 집합의 크기 : 12\n"
          ],
          "name": "stdout"
        }
      ]
    },
    {
      "cell_type": "code",
      "metadata": {
        "colab": {
          "base_uri": "https://localhost:8080/"
        },
        "id": "Zi3K2V-Ewfxv",
        "outputId": "09a6aeff-4163-4a6f-ee2e-8e978349aac3"
      },
      "source": [
        "print(t.word_index)"
      ],
      "execution_count": 59,
      "outputs": [
        {
          "output_type": "stream",
          "text": [
            "{'말이': 1, '경마장에': 2, '있는': 3, '뛰고': 4, '있다': 5, '그의': 6, '법이다': 7, '가는': 8, '고와야': 9, '오는': 10, '곱다': 11}\n"
          ],
          "name": "stdout"
        }
      ]
    },
    {
      "cell_type": "markdown",
      "metadata": {
        "id": "qL_m6i1mwluC"
      },
      "source": [
        "## 2) 훈련 데이터 \n"
      ]
    },
    {
      "cell_type": "code",
      "metadata": {
        "colab": {
          "base_uri": "https://localhost:8080/"
        },
        "id": "6ROCvYqLwhQP",
        "outputId": "c16b3029-e3bd-4b8c-bc7c-41bd831a53bb"
      },
      "source": [
        "sequences = list()\n",
        "for line in text.split('\\n'): # Wn을 기준으로 문장 토큰화\n",
        "    encoded = t.texts_to_sequences([line])[0]\n",
        "    for i in range(1, len(encoded)):\n",
        "        sequence = encoded[:i+1]\n",
        "        sequences.append(sequence)\n",
        "\n",
        "print('학습에 사용할 샘플의 개수: %d' % len(sequences))"
      ],
      "execution_count": 60,
      "outputs": [
        {
          "output_type": "stream",
          "text": [
            "학습에 사용할 샘플의 개수: 11\n"
          ],
          "name": "stdout"
        }
      ]
    },
    {
      "cell_type": "code",
      "metadata": {
        "colab": {
          "base_uri": "https://localhost:8080/"
        },
        "id": "Kolq2rXjwtdg",
        "outputId": "7972ab3c-0dfd-43a7-a897-f3c8d28e1318"
      },
      "source": [
        "print(sequences)"
      ],
      "execution_count": 61,
      "outputs": [
        {
          "output_type": "stream",
          "text": [
            "[[2, 3], [2, 3, 1], [2, 3, 1, 4], [2, 3, 1, 4, 5], [6, 1], [6, 1, 7], [8, 1], [8, 1, 9], [8, 1, 9, 10], [8, 1, 9, 10, 1], [8, 1, 9, 10, 1, 11]]\n"
          ],
          "name": "stdout"
        }
      ]
    },
    {
      "cell_type": "code",
      "metadata": {
        "colab": {
          "base_uri": "https://localhost:8080/"
        },
        "id": "2bYKlDpswvHf",
        "outputId": "b8df2c54-8524-4c6f-e783-32246c749213"
      },
      "source": [
        "max_len=max(len(l) for l in sequences) # 모든 샘플에서 길이가 가장 긴 샘플의 길이 출력\n",
        "print('샘플의 최대 길이 : {}'.format(max_len))"
      ],
      "execution_count": 62,
      "outputs": [
        {
          "output_type": "stream",
          "text": [
            "샘플의 최대 길이 : 6\n"
          ],
          "name": "stdout"
        }
      ]
    },
    {
      "cell_type": "markdown",
      "metadata": {
        "id": "TjbhhZEswz5M"
      },
      "source": [
        "**전체 샘플의 길이를 6으로 패딩**"
      ]
    },
    {
      "cell_type": "code",
      "metadata": {
        "id": "dcsFiayYwxy4"
      },
      "source": [
        "sequences = pad_sequences(sequences, maxlen=max_len, padding='pre')"
      ],
      "execution_count": 63,
      "outputs": []
    },
    {
      "cell_type": "code",
      "metadata": {
        "colab": {
          "base_uri": "https://localhost:8080/"
        },
        "id": "rHevlYJTw14H",
        "outputId": "0eb3becc-6aa8-41a4-9381-e6caadad6efd"
      },
      "source": [
        "print(sequences)"
      ],
      "execution_count": 64,
      "outputs": [
        {
          "output_type": "stream",
          "text": [
            "[[ 0  0  0  0  2  3]\n",
            " [ 0  0  0  2  3  1]\n",
            " [ 0  0  2  3  1  4]\n",
            " [ 0  2  3  1  4  5]\n",
            " [ 0  0  0  0  6  1]\n",
            " [ 0  0  0  6  1  7]\n",
            " [ 0  0  0  0  8  1]\n",
            " [ 0  0  0  8  1  9]\n",
            " [ 0  0  8  1  9 10]\n",
            " [ 0  8  1  9 10  1]\n",
            " [ 8  1  9 10  1 11]]\n"
          ],
          "name": "stdout"
        }
      ]
    },
    {
      "cell_type": "code",
      "metadata": {
        "id": "ftXb9nLBw3h3"
      },
      "source": [
        "sequences = np.array(sequences)\n",
        "X = sequences[:,:-1]\n",
        "y = sequences[:,-1]\n",
        "# 리스트의 마지막 값을 제외하고 저장한 것은 X\n",
        "# 리스트의 마지막 값만 저장한 것은 y. 이는 레이블에 해당됨."
      ],
      "execution_count": 65,
      "outputs": []
    },
    {
      "cell_type": "code",
      "metadata": {
        "colab": {
          "base_uri": "https://localhost:8080/"
        },
        "id": "X5nDr5nTxWP4",
        "outputId": "a29bb6b6-ef22-4be3-cdfd-8b4b2572bc8c"
      },
      "source": [
        "print(X)"
      ],
      "execution_count": 66,
      "outputs": [
        {
          "output_type": "stream",
          "text": [
            "[[ 0  0  0  0  2]\n",
            " [ 0  0  0  2  3]\n",
            " [ 0  0  2  3  1]\n",
            " [ 0  2  3  1  4]\n",
            " [ 0  0  0  0  6]\n",
            " [ 0  0  0  6  1]\n",
            " [ 0  0  0  0  8]\n",
            " [ 0  0  0  8  1]\n",
            " [ 0  0  8  1  9]\n",
            " [ 0  8  1  9 10]\n",
            " [ 8  1  9 10  1]]\n"
          ],
          "name": "stdout"
        }
      ]
    },
    {
      "cell_type": "code",
      "metadata": {
        "colab": {
          "base_uri": "https://localhost:8080/"
        },
        "id": "vFM5P4VgxYvn",
        "outputId": "dd90f801-2a63-406a-ac04-290ec7c5cdd4"
      },
      "source": [
        "print(y) # 모든 샘플에 대한 레이블 출력"
      ],
      "execution_count": 67,
      "outputs": [
        {
          "output_type": "stream",
          "text": [
            "[ 3  1  4  5  1  7  1  9 10  1 11]\n"
          ],
          "name": "stdout"
        }
      ]
    },
    {
      "cell_type": "code",
      "metadata": {
        "id": "i8TKTEesxah3"
      },
      "source": [
        "y = to_categorical(y, num_classes=vocab_size)"
      ],
      "execution_count": 68,
      "outputs": []
    },
    {
      "cell_type": "code",
      "metadata": {
        "colab": {
          "base_uri": "https://localhost:8080/"
        },
        "id": "fceyL73uxbo4",
        "outputId": "1da328da-e48e-48cd-c3ac-69c255fe4bed"
      },
      "source": [
        "print(y)"
      ],
      "execution_count": 69,
      "outputs": [
        {
          "output_type": "stream",
          "text": [
            "[[0. 0. 0. 1. 0. 0. 0. 0. 0. 0. 0. 0.]\n",
            " [0. 1. 0. 0. 0. 0. 0. 0. 0. 0. 0. 0.]\n",
            " [0. 0. 0. 0. 1. 0. 0. 0. 0. 0. 0. 0.]\n",
            " [0. 0. 0. 0. 0. 1. 0. 0. 0. 0. 0. 0.]\n",
            " [0. 1. 0. 0. 0. 0. 0. 0. 0. 0. 0. 0.]\n",
            " [0. 0. 0. 0. 0. 0. 0. 1. 0. 0. 0. 0.]\n",
            " [0. 1. 0. 0. 0. 0. 0. 0. 0. 0. 0. 0.]\n",
            " [0. 0. 0. 0. 0. 0. 0. 0. 0. 1. 0. 0.]\n",
            " [0. 0. 0. 0. 0. 0. 0. 0. 0. 0. 1. 0.]\n",
            " [0. 1. 0. 0. 0. 0. 0. 0. 0. 0. 0. 0.]\n",
            " [0. 0. 0. 0. 0. 0. 0. 0. 0. 0. 0. 1.]]\n"
          ],
          "name": "stdout"
        }
      ]
    },
    {
      "cell_type": "markdown",
      "metadata": {
        "id": "aAlMWtP0xezU"
      },
      "source": [
        "## 3) 모델 설계"
      ]
    },
    {
      "cell_type": "code",
      "metadata": {
        "id": "SEOLemnVxdSH"
      },
      "source": [
        "from tensorflow.keras.models import Sequential\n",
        "from tensorflow.keras.layers import Embedding, Dense, SimpleRNN"
      ],
      "execution_count": 70,
      "outputs": []
    },
    {
      "cell_type": "code",
      "metadata": {
        "colab": {
          "base_uri": "https://localhost:8080/"
        },
        "id": "LV72geDwxjqB",
        "outputId": "911e0ec4-ae5a-4fc8-c012-66297bcfe044"
      },
      "source": [
        "model = Sequential()\n",
        "model.add(Embedding(vocab_size, 10, input_length=max_len-1)) # 레이블을 분리하였으므로 이제 X의 길이는 5\n",
        "model.add(SimpleRNN(32))\n",
        "model.add(Dense(vocab_size, activation='softmax'))\n",
        "model.compile(loss='categorical_crossentropy', optimizer='adam', metrics=['accuracy'])\n",
        "model.fit(X, y, epochs=200, verbose=2)"
      ],
      "execution_count": 71,
      "outputs": [
        {
          "output_type": "stream",
          "text": [
            "Epoch 1/200\n",
            "1/1 - 1s - loss: 2.4667 - accuracy: 0.1818\n",
            "Epoch 2/200\n",
            "1/1 - 0s - loss: 2.4553 - accuracy: 0.1818\n",
            "Epoch 3/200\n",
            "1/1 - 0s - loss: 2.4437 - accuracy: 0.1818\n",
            "Epoch 4/200\n",
            "1/1 - 0s - loss: 2.4319 - accuracy: 0.3636\n",
            "Epoch 5/200\n",
            "1/1 - 0s - loss: 2.4198 - accuracy: 0.3636\n",
            "Epoch 6/200\n",
            "1/1 - 0s - loss: 2.4073 - accuracy: 0.5455\n",
            "Epoch 7/200\n",
            "1/1 - 0s - loss: 2.3945 - accuracy: 0.5455\n",
            "Epoch 8/200\n",
            "1/1 - 0s - loss: 2.3811 - accuracy: 0.5455\n",
            "Epoch 9/200\n",
            "1/1 - 0s - loss: 2.3672 - accuracy: 0.4545\n",
            "Epoch 10/200\n",
            "1/1 - 0s - loss: 2.3527 - accuracy: 0.4545\n",
            "Epoch 11/200\n",
            "1/1 - 0s - loss: 2.3376 - accuracy: 0.4545\n",
            "Epoch 12/200\n",
            "1/1 - 0s - loss: 2.3217 - accuracy: 0.4545\n",
            "Epoch 13/200\n",
            "1/1 - 0s - loss: 2.3051 - accuracy: 0.4545\n",
            "Epoch 14/200\n",
            "1/1 - 0s - loss: 2.2877 - accuracy: 0.4545\n",
            "Epoch 15/200\n",
            "1/1 - 0s - loss: 2.2695 - accuracy: 0.4545\n",
            "Epoch 16/200\n",
            "1/1 - 0s - loss: 2.2504 - accuracy: 0.4545\n",
            "Epoch 17/200\n",
            "1/1 - 0s - loss: 2.2305 - accuracy: 0.4545\n",
            "Epoch 18/200\n",
            "1/1 - 0s - loss: 2.2097 - accuracy: 0.4545\n",
            "Epoch 19/200\n",
            "1/1 - 0s - loss: 2.1880 - accuracy: 0.4545\n",
            "Epoch 20/200\n",
            "1/1 - 0s - loss: 2.1656 - accuracy: 0.4545\n",
            "Epoch 21/200\n",
            "1/1 - 0s - loss: 2.1424 - accuracy: 0.4545\n",
            "Epoch 22/200\n",
            "1/1 - 0s - loss: 2.1186 - accuracy: 0.4545\n",
            "Epoch 23/200\n",
            "1/1 - 0s - loss: 2.0942 - accuracy: 0.4545\n",
            "Epoch 24/200\n",
            "1/1 - 0s - loss: 2.0694 - accuracy: 0.4545\n",
            "Epoch 25/200\n",
            "1/1 - 0s - loss: 2.0444 - accuracy: 0.3636\n",
            "Epoch 26/200\n",
            "1/1 - 0s - loss: 2.0194 - accuracy: 0.3636\n",
            "Epoch 27/200\n",
            "1/1 - 0s - loss: 1.9946 - accuracy: 0.3636\n",
            "Epoch 28/200\n",
            "1/1 - 0s - loss: 1.9702 - accuracy: 0.3636\n",
            "Epoch 29/200\n",
            "1/1 - 0s - loss: 1.9464 - accuracy: 0.3636\n",
            "Epoch 30/200\n",
            "1/1 - 0s - loss: 1.9233 - accuracy: 0.3636\n",
            "Epoch 31/200\n",
            "1/1 - 0s - loss: 1.9011 - accuracy: 0.3636\n",
            "Epoch 32/200\n",
            "1/1 - 0s - loss: 1.8796 - accuracy: 0.3636\n",
            "Epoch 33/200\n",
            "1/1 - 0s - loss: 1.8589 - accuracy: 0.3636\n",
            "Epoch 34/200\n",
            "1/1 - 0s - loss: 1.8388 - accuracy: 0.4545\n",
            "Epoch 35/200\n",
            "1/1 - 0s - loss: 1.8191 - accuracy: 0.4545\n",
            "Epoch 36/200\n",
            "1/1 - 0s - loss: 1.7995 - accuracy: 0.4545\n",
            "Epoch 37/200\n",
            "1/1 - 0s - loss: 1.7799 - accuracy: 0.4545\n",
            "Epoch 38/200\n",
            "1/1 - 0s - loss: 1.7601 - accuracy: 0.4545\n",
            "Epoch 39/200\n",
            "1/1 - 0s - loss: 1.7400 - accuracy: 0.4545\n",
            "Epoch 40/200\n",
            "1/1 - 0s - loss: 1.7195 - accuracy: 0.4545\n",
            "Epoch 41/200\n",
            "1/1 - 0s - loss: 1.6987 - accuracy: 0.4545\n",
            "Epoch 42/200\n",
            "1/1 - 0s - loss: 1.6776 - accuracy: 0.4545\n",
            "Epoch 43/200\n",
            "1/1 - 0s - loss: 1.6562 - accuracy: 0.4545\n",
            "Epoch 44/200\n",
            "1/1 - 0s - loss: 1.6347 - accuracy: 0.4545\n",
            "Epoch 45/200\n",
            "1/1 - 0s - loss: 1.6131 - accuracy: 0.4545\n",
            "Epoch 46/200\n",
            "1/1 - 0s - loss: 1.5915 - accuracy: 0.4545\n",
            "Epoch 47/200\n",
            "1/1 - 0s - loss: 1.5697 - accuracy: 0.4545\n",
            "Epoch 48/200\n",
            "1/1 - 0s - loss: 1.5478 - accuracy: 0.4545\n",
            "Epoch 49/200\n",
            "1/1 - 0s - loss: 1.5259 - accuracy: 0.4545\n",
            "Epoch 50/200\n",
            "1/1 - 0s - loss: 1.5038 - accuracy: 0.4545\n",
            "Epoch 51/200\n",
            "1/1 - 0s - loss: 1.4815 - accuracy: 0.5455\n",
            "Epoch 52/200\n",
            "1/1 - 0s - loss: 1.4591 - accuracy: 0.5455\n",
            "Epoch 53/200\n",
            "1/1 - 0s - loss: 1.4366 - accuracy: 0.5455\n",
            "Epoch 54/200\n",
            "1/1 - 0s - loss: 1.4140 - accuracy: 0.5455\n",
            "Epoch 55/200\n",
            "1/1 - 0s - loss: 1.3914 - accuracy: 0.5455\n",
            "Epoch 56/200\n",
            "1/1 - 0s - loss: 1.3687 - accuracy: 0.5455\n",
            "Epoch 57/200\n",
            "1/1 - 0s - loss: 1.3461 - accuracy: 0.5455\n",
            "Epoch 58/200\n",
            "1/1 - 0s - loss: 1.3236 - accuracy: 0.5455\n",
            "Epoch 59/200\n",
            "1/1 - 0s - loss: 1.3013 - accuracy: 0.5455\n",
            "Epoch 60/200\n",
            "1/1 - 0s - loss: 1.2791 - accuracy: 0.5455\n",
            "Epoch 61/200\n",
            "1/1 - 0s - loss: 1.2571 - accuracy: 0.5455\n",
            "Epoch 62/200\n",
            "1/1 - 0s - loss: 1.2353 - accuracy: 0.6364\n",
            "Epoch 63/200\n",
            "1/1 - 0s - loss: 1.2136 - accuracy: 0.6364\n",
            "Epoch 64/200\n",
            "1/1 - 0s - loss: 1.1923 - accuracy: 0.6364\n",
            "Epoch 65/200\n",
            "1/1 - 0s - loss: 1.1711 - accuracy: 0.6364\n",
            "Epoch 66/200\n",
            "1/1 - 0s - loss: 1.1501 - accuracy: 0.7273\n",
            "Epoch 67/200\n",
            "1/1 - 0s - loss: 1.1293 - accuracy: 0.7273\n",
            "Epoch 68/200\n",
            "1/1 - 0s - loss: 1.1088 - accuracy: 0.7273\n",
            "Epoch 69/200\n",
            "1/1 - 0s - loss: 1.0885 - accuracy: 0.7273\n",
            "Epoch 70/200\n",
            "1/1 - 0s - loss: 1.0683 - accuracy: 0.7273\n",
            "Epoch 71/200\n",
            "1/1 - 0s - loss: 1.0483 - accuracy: 0.7273\n",
            "Epoch 72/200\n",
            "1/1 - 0s - loss: 1.0286 - accuracy: 0.7273\n",
            "Epoch 73/200\n",
            "1/1 - 0s - loss: 1.0090 - accuracy: 0.7273\n",
            "Epoch 74/200\n",
            "1/1 - 0s - loss: 0.9896 - accuracy: 0.7273\n",
            "Epoch 75/200\n",
            "1/1 - 0s - loss: 0.9705 - accuracy: 0.7273\n",
            "Epoch 76/200\n",
            "1/1 - 0s - loss: 0.9515 - accuracy: 0.7273\n",
            "Epoch 77/200\n",
            "1/1 - 0s - loss: 0.9327 - accuracy: 0.7273\n",
            "Epoch 78/200\n",
            "1/1 - 0s - loss: 0.9142 - accuracy: 0.7273\n",
            "Epoch 79/200\n",
            "1/1 - 0s - loss: 0.8958 - accuracy: 0.7273\n",
            "Epoch 80/200\n",
            "1/1 - 0s - loss: 0.8777 - accuracy: 0.7273\n",
            "Epoch 81/200\n",
            "1/1 - 0s - loss: 0.8598 - accuracy: 0.8182\n",
            "Epoch 82/200\n",
            "1/1 - 0s - loss: 0.8422 - accuracy: 0.8182\n",
            "Epoch 83/200\n",
            "1/1 - 0s - loss: 0.8248 - accuracy: 0.8182\n",
            "Epoch 84/200\n",
            "1/1 - 0s - loss: 0.8077 - accuracy: 0.8182\n",
            "Epoch 85/200\n",
            "1/1 - 0s - loss: 0.7908 - accuracy: 0.8182\n",
            "Epoch 86/200\n",
            "1/1 - 0s - loss: 0.7741 - accuracy: 0.8182\n",
            "Epoch 87/200\n",
            "1/1 - 0s - loss: 0.7577 - accuracy: 0.9091\n",
            "Epoch 88/200\n",
            "1/1 - 0s - loss: 0.7416 - accuracy: 0.9091\n",
            "Epoch 89/200\n",
            "1/1 - 0s - loss: 0.7258 - accuracy: 0.9091\n",
            "Epoch 90/200\n",
            "1/1 - 0s - loss: 0.7102 - accuracy: 0.9091\n",
            "Epoch 91/200\n",
            "1/1 - 0s - loss: 0.6949 - accuracy: 0.9091\n",
            "Epoch 92/200\n",
            "1/1 - 0s - loss: 0.6799 - accuracy: 0.9091\n",
            "Epoch 93/200\n",
            "1/1 - 0s - loss: 0.6651 - accuracy: 0.9091\n",
            "Epoch 94/200\n",
            "1/1 - 0s - loss: 0.6507 - accuracy: 0.9091\n",
            "Epoch 95/200\n",
            "1/1 - 0s - loss: 0.6365 - accuracy: 0.9091\n",
            "Epoch 96/200\n",
            "1/1 - 0s - loss: 0.6226 - accuracy: 0.9091\n",
            "Epoch 97/200\n",
            "1/1 - 0s - loss: 0.6089 - accuracy: 0.9091\n",
            "Epoch 98/200\n",
            "1/1 - 0s - loss: 0.5956 - accuracy: 0.9091\n",
            "Epoch 99/200\n",
            "1/1 - 0s - loss: 0.5825 - accuracy: 0.9091\n",
            "Epoch 100/200\n",
            "1/1 - 0s - loss: 0.5697 - accuracy: 0.9091\n",
            "Epoch 101/200\n",
            "1/1 - 0s - loss: 0.5572 - accuracy: 0.9091\n",
            "Epoch 102/200\n",
            "1/1 - 0s - loss: 0.5449 - accuracy: 0.9091\n",
            "Epoch 103/200\n",
            "1/1 - 0s - loss: 0.5330 - accuracy: 0.9091\n",
            "Epoch 104/200\n",
            "1/1 - 0s - loss: 0.5213 - accuracy: 0.9091\n",
            "Epoch 105/200\n",
            "1/1 - 0s - loss: 0.5098 - accuracy: 0.9091\n",
            "Epoch 106/200\n",
            "1/1 - 0s - loss: 0.4987 - accuracy: 1.0000\n",
            "Epoch 107/200\n",
            "1/1 - 0s - loss: 0.4877 - accuracy: 1.0000\n",
            "Epoch 108/200\n",
            "1/1 - 0s - loss: 0.4771 - accuracy: 1.0000\n",
            "Epoch 109/200\n",
            "1/1 - 0s - loss: 0.4667 - accuracy: 1.0000\n",
            "Epoch 110/200\n",
            "1/1 - 0s - loss: 0.4565 - accuracy: 1.0000\n",
            "Epoch 111/200\n",
            "1/1 - 0s - loss: 0.4465 - accuracy: 1.0000\n",
            "Epoch 112/200\n",
            "1/1 - 0s - loss: 0.4368 - accuracy: 1.0000\n",
            "Epoch 113/200\n",
            "1/1 - 0s - loss: 0.4274 - accuracy: 1.0000\n",
            "Epoch 114/200\n",
            "1/1 - 0s - loss: 0.4181 - accuracy: 1.0000\n",
            "Epoch 115/200\n",
            "1/1 - 0s - loss: 0.4091 - accuracy: 1.0000\n",
            "Epoch 116/200\n",
            "1/1 - 0s - loss: 0.4002 - accuracy: 1.0000\n",
            "Epoch 117/200\n",
            "1/1 - 0s - loss: 0.3916 - accuracy: 1.0000\n",
            "Epoch 118/200\n",
            "1/1 - 0s - loss: 0.3832 - accuracy: 1.0000\n",
            "Epoch 119/200\n",
            "1/1 - 0s - loss: 0.3750 - accuracy: 1.0000\n",
            "Epoch 120/200\n",
            "1/1 - 0s - loss: 0.3670 - accuracy: 1.0000\n",
            "Epoch 121/200\n",
            "1/1 - 0s - loss: 0.3592 - accuracy: 1.0000\n",
            "Epoch 122/200\n",
            "1/1 - 0s - loss: 0.3515 - accuracy: 1.0000\n",
            "Epoch 123/200\n",
            "1/1 - 0s - loss: 0.3441 - accuracy: 1.0000\n",
            "Epoch 124/200\n",
            "1/1 - 0s - loss: 0.3368 - accuracy: 1.0000\n",
            "Epoch 125/200\n",
            "1/1 - 0s - loss: 0.3296 - accuracy: 1.0000\n",
            "Epoch 126/200\n",
            "1/1 - 0s - loss: 0.3227 - accuracy: 1.0000\n",
            "Epoch 127/200\n",
            "1/1 - 0s - loss: 0.3159 - accuracy: 1.0000\n",
            "Epoch 128/200\n",
            "1/1 - 0s - loss: 0.3092 - accuracy: 1.0000\n",
            "Epoch 129/200\n",
            "1/1 - 0s - loss: 0.3027 - accuracy: 1.0000\n",
            "Epoch 130/200\n",
            "1/1 - 0s - loss: 0.2964 - accuracy: 1.0000\n",
            "Epoch 131/200\n",
            "1/1 - 0s - loss: 0.2902 - accuracy: 1.0000\n",
            "Epoch 132/200\n",
            "1/1 - 0s - loss: 0.2842 - accuracy: 1.0000\n",
            "Epoch 133/200\n",
            "1/1 - 0s - loss: 0.2782 - accuracy: 1.0000\n",
            "Epoch 134/200\n",
            "1/1 - 0s - loss: 0.2725 - accuracy: 1.0000\n",
            "Epoch 135/200\n",
            "1/1 - 0s - loss: 0.2668 - accuracy: 1.0000\n",
            "Epoch 136/200\n",
            "1/1 - 0s - loss: 0.2613 - accuracy: 1.0000\n",
            "Epoch 137/200\n",
            "1/1 - 0s - loss: 0.2559 - accuracy: 1.0000\n",
            "Epoch 138/200\n",
            "1/1 - 0s - loss: 0.2506 - accuracy: 1.0000\n",
            "Epoch 139/200\n",
            "1/1 - 0s - loss: 0.2455 - accuracy: 1.0000\n",
            "Epoch 140/200\n",
            "1/1 - 0s - loss: 0.2404 - accuracy: 1.0000\n",
            "Epoch 141/200\n",
            "1/1 - 0s - loss: 0.2355 - accuracy: 1.0000\n",
            "Epoch 142/200\n",
            "1/1 - 0s - loss: 0.2307 - accuracy: 1.0000\n",
            "Epoch 143/200\n",
            "1/1 - 0s - loss: 0.2260 - accuracy: 1.0000\n",
            "Epoch 144/200\n",
            "1/1 - 0s - loss: 0.2214 - accuracy: 1.0000\n",
            "Epoch 145/200\n",
            "1/1 - 0s - loss: 0.2169 - accuracy: 1.0000\n",
            "Epoch 146/200\n",
            "1/1 - 0s - loss: 0.2126 - accuracy: 1.0000\n",
            "Epoch 147/200\n",
            "1/1 - 0s - loss: 0.2083 - accuracy: 1.0000\n",
            "Epoch 148/200\n",
            "1/1 - 0s - loss: 0.2041 - accuracy: 1.0000\n",
            "Epoch 149/200\n",
            "1/1 - 0s - loss: 0.2000 - accuracy: 1.0000\n",
            "Epoch 150/200\n",
            "1/1 - 0s - loss: 0.1960 - accuracy: 1.0000\n",
            "Epoch 151/200\n",
            "1/1 - 0s - loss: 0.1921 - accuracy: 1.0000\n",
            "Epoch 152/200\n",
            "1/1 - 0s - loss: 0.1883 - accuracy: 1.0000\n",
            "Epoch 153/200\n",
            "1/1 - 0s - loss: 0.1846 - accuracy: 1.0000\n",
            "Epoch 154/200\n",
            "1/1 - 0s - loss: 0.1810 - accuracy: 1.0000\n",
            "Epoch 155/200\n",
            "1/1 - 0s - loss: 0.1774 - accuracy: 1.0000\n",
            "Epoch 156/200\n",
            "1/1 - 0s - loss: 0.1740 - accuracy: 1.0000\n",
            "Epoch 157/200\n",
            "1/1 - 0s - loss: 0.1706 - accuracy: 1.0000\n",
            "Epoch 158/200\n",
            "1/1 - 0s - loss: 0.1673 - accuracy: 1.0000\n",
            "Epoch 159/200\n",
            "1/1 - 0s - loss: 0.1640 - accuracy: 1.0000\n",
            "Epoch 160/200\n",
            "1/1 - 0s - loss: 0.1609 - accuracy: 1.0000\n",
            "Epoch 161/200\n",
            "1/1 - 0s - loss: 0.1578 - accuracy: 1.0000\n",
            "Epoch 162/200\n",
            "1/1 - 0s - loss: 0.1548 - accuracy: 1.0000\n",
            "Epoch 163/200\n",
            "1/1 - 0s - loss: 0.1518 - accuracy: 1.0000\n",
            "Epoch 164/200\n",
            "1/1 - 0s - loss: 0.1490 - accuracy: 1.0000\n",
            "Epoch 165/200\n",
            "1/1 - 0s - loss: 0.1462 - accuracy: 1.0000\n",
            "Epoch 166/200\n",
            "1/1 - 0s - loss: 0.1434 - accuracy: 1.0000\n",
            "Epoch 167/200\n",
            "1/1 - 0s - loss: 0.1408 - accuracy: 1.0000\n",
            "Epoch 168/200\n",
            "1/1 - 0s - loss: 0.1382 - accuracy: 1.0000\n",
            "Epoch 169/200\n",
            "1/1 - 0s - loss: 0.1356 - accuracy: 1.0000\n",
            "Epoch 170/200\n",
            "1/1 - 0s - loss: 0.1331 - accuracy: 1.0000\n",
            "Epoch 171/200\n",
            "1/1 - 0s - loss: 0.1307 - accuracy: 1.0000\n",
            "Epoch 172/200\n",
            "1/1 - 0s - loss: 0.1283 - accuracy: 1.0000\n",
            "Epoch 173/200\n",
            "1/1 - 0s - loss: 0.1260 - accuracy: 1.0000\n",
            "Epoch 174/200\n",
            "1/1 - 0s - loss: 0.1237 - accuracy: 1.0000\n",
            "Epoch 175/200\n",
            "1/1 - 0s - loss: 0.1215 - accuracy: 1.0000\n",
            "Epoch 176/200\n",
            "1/1 - 0s - loss: 0.1193 - accuracy: 1.0000\n",
            "Epoch 177/200\n",
            "1/1 - 0s - loss: 0.1172 - accuracy: 1.0000\n",
            "Epoch 178/200\n",
            "1/1 - 0s - loss: 0.1152 - accuracy: 1.0000\n",
            "Epoch 179/200\n",
            "1/1 - 0s - loss: 0.1132 - accuracy: 1.0000\n",
            "Epoch 180/200\n",
            "1/1 - 0s - loss: 0.1112 - accuracy: 1.0000\n",
            "Epoch 181/200\n",
            "1/1 - 0s - loss: 0.1093 - accuracy: 1.0000\n",
            "Epoch 182/200\n",
            "1/1 - 0s - loss: 0.1074 - accuracy: 1.0000\n",
            "Epoch 183/200\n",
            "1/1 - 0s - loss: 0.1055 - accuracy: 1.0000\n",
            "Epoch 184/200\n",
            "1/1 - 0s - loss: 0.1038 - accuracy: 1.0000\n",
            "Epoch 185/200\n",
            "1/1 - 0s - loss: 0.1020 - accuracy: 1.0000\n",
            "Epoch 186/200\n",
            "1/1 - 0s - loss: 0.1003 - accuracy: 1.0000\n",
            "Epoch 187/200\n",
            "1/1 - 0s - loss: 0.0986 - accuracy: 1.0000\n",
            "Epoch 188/200\n",
            "1/1 - 0s - loss: 0.0970 - accuracy: 1.0000\n",
            "Epoch 189/200\n",
            "1/1 - 0s - loss: 0.0954 - accuracy: 1.0000\n",
            "Epoch 190/200\n",
            "1/1 - 0s - loss: 0.0938 - accuracy: 1.0000\n",
            "Epoch 191/200\n",
            "1/1 - 0s - loss: 0.0923 - accuracy: 1.0000\n",
            "Epoch 192/200\n",
            "1/1 - 0s - loss: 0.0908 - accuracy: 1.0000\n",
            "Epoch 193/200\n",
            "1/1 - 0s - loss: 0.0893 - accuracy: 1.0000\n",
            "Epoch 194/200\n",
            "1/1 - 0s - loss: 0.0879 - accuracy: 1.0000\n",
            "Epoch 195/200\n",
            "1/1 - 0s - loss: 0.0865 - accuracy: 1.0000\n",
            "Epoch 196/200\n",
            "1/1 - 0s - loss: 0.0851 - accuracy: 1.0000\n",
            "Epoch 197/200\n",
            "1/1 - 0s - loss: 0.0838 - accuracy: 1.0000\n",
            "Epoch 198/200\n",
            "1/1 - 0s - loss: 0.0825 - accuracy: 1.0000\n",
            "Epoch 199/200\n",
            "1/1 - 0s - loss: 0.0812 - accuracy: 1.0000\n",
            "Epoch 200/200\n",
            "1/1 - 0s - loss: 0.0800 - accuracy: 1.0000\n"
          ],
          "name": "stdout"
        },
        {
          "output_type": "execute_result",
          "data": {
            "text/plain": [
              "<tensorflow.python.keras.callbacks.History at 0x7f304022c9d0>"
            ]
          },
          "metadata": {
            "tags": []
          },
          "execution_count": 71
        }
      ]
    },
    {
      "cell_type": "markdown",
      "metadata": {
        "id": "2ZkqHPnNxwDp"
      },
      "source": [
        "## 4) 생성되는 문장 출력"
      ]
    },
    {
      "cell_type": "code",
      "metadata": {
        "id": "Jtu7VfRMx0MX"
      },
      "source": [
        "def sentence_generation(model, t, current_word, n): # 모델, 토크나이저, 현재 단어, 반복할 횟수\n",
        "    init_word = current_word # 처음 들어온 단어도 마지막에 같이 출력하기위해 저장\n",
        "    sentence = ''\n",
        "    for _ in range(n): # n번 반복\n",
        "        encoded = t.texts_to_sequences([current_word])[0] # 현재 단어에 대한 정수 인코딩\n",
        "        encoded = pad_sequences([encoded], maxlen=5, padding='pre') # 데이터에 대한 패딩\n",
        "        result = np.argmax(model.predict(encoded),axis=-1)\n",
        "    # 입력한 X(현재 단어)에 대해서 Y를 예측하고 Y(예측한 단어)를 result에 저장.\n",
        "        for word, index in t.word_index.items(): \n",
        "            if index == result: # 만약 예측한 단어와 인덱스와 동일한 단어가 있다면\n",
        "                break # 해당 단어가 예측 단어이므로 break\n",
        "        current_word = current_word + ' '  + word # 현재 단어 + ' ' + 예측 단어를 현재 단어로 변경\n",
        "        sentence = sentence + ' ' + word # 예측 단어를 문장에 저장\n",
        "    # for문이므로 이 행동을 다시 반복\n",
        "    sentence = init_word + sentence\n",
        "    return sentence"
      ],
      "execution_count": 72,
      "outputs": []
    },
    {
      "cell_type": "code",
      "metadata": {
        "colab": {
          "base_uri": "https://localhost:8080/"
        },
        "id": "nD-TzEeaxnGn",
        "outputId": "1ffc6dd8-010e-4419-81ad-f71e77ea1387"
      },
      "source": [
        "print(sentence_generation(model, t, '경마장에', 4))\n",
        "# '경마장에' 라는 단어 뒤에는 총 4개의 단어가 있으므로 4번 예측"
      ],
      "execution_count": 73,
      "outputs": [
        {
          "output_type": "stream",
          "text": [
            "경마장에 있는 말이 뛰고 있다\n"
          ],
          "name": "stdout"
        }
      ]
    },
    {
      "cell_type": "code",
      "metadata": {
        "colab": {
          "base_uri": "https://localhost:8080/"
        },
        "id": "pyf8tJaFx6zp",
        "outputId": "affb97f3-c510-47b8-94e1-c8359326e7fc"
      },
      "source": [
        "print(sentence_generation(model, t, '가는', 5)) # 5번 예측"
      ],
      "execution_count": 74,
      "outputs": [
        {
          "output_type": "stream",
          "text": [
            "가는 말이 고와야 오는 말이 곱다\n"
          ],
          "name": "stdout"
        }
      ]
    },
    {
      "cell_type": "markdown",
      "metadata": {
        "id": "8QjtI05dyRlJ"
      },
      "source": [
        "-----------------"
      ]
    },
    {
      "cell_type": "markdown",
      "metadata": {
        "id": "vXG0jISoy6uf"
      },
      "source": [
        "# LSTM 이용 텍스트 생성하기"
      ]
    },
    {
      "cell_type": "code",
      "metadata": {
        "colab": {
          "base_uri": "https://localhost:8080/"
        },
        "id": "1IDqFLX3yNN_",
        "outputId": "65950a24-b8da-4869-ee7d-3179ede855cf"
      },
      "source": [
        "from google.colab import drive\n",
        "drive.mount('/content/drive')"
      ],
      "execution_count": 23,
      "outputs": [
        {
          "output_type": "stream",
          "text": [
            "Mounted at /content/drive\n"
          ],
          "name": "stdout"
        }
      ]
    },
    {
      "cell_type": "code",
      "metadata": {
        "id": "RRvenT66yz3H"
      },
      "source": [
        "import pandas as pd\n",
        "from string import punctuation\n",
        "from tensorflow.keras.preprocessing.text import Tokenizer\n",
        "from tensorflow.keras.preprocessing.sequence import pad_sequences\n",
        "import numpy as np\n",
        "from tensorflow.keras.utils import to_categorical"
      ],
      "execution_count": 24,
      "outputs": []
    },
    {
      "cell_type": "markdown",
      "metadata": {
        "id": "9Qh0e9HrzQ-_"
      },
      "source": [
        "## 1) 데이터에 대한 이해와 전처리"
      ]
    },
    {
      "cell_type": "markdown",
      "metadata": {
        "id": "-tq_FUXkzBHt"
      },
      "source": [
        "**뉴욕 타임즈 기사 제목**"
      ]
    },
    {
      "cell_type": "code",
      "metadata": {
        "colab": {
          "base_uri": "https://localhost:8080/",
          "height": 636
        },
        "id": "2v9sk9OAy_Ye",
        "outputId": "aba0cb75-3938-4463-807a-8d87b16f5a3b"
      },
      "source": [
        "df=pd.read_csv('/content/drive/MyDrive/ArticlesApril2018.csv')\n",
        "df.head()"
      ],
      "execution_count": 25,
      "outputs": [
        {
          "output_type": "execute_result",
          "data": {
            "text/html": [
              "<div>\n",
              "<style scoped>\n",
              "    .dataframe tbody tr th:only-of-type {\n",
              "        vertical-align: middle;\n",
              "    }\n",
              "\n",
              "    .dataframe tbody tr th {\n",
              "        vertical-align: top;\n",
              "    }\n",
              "\n",
              "    .dataframe thead th {\n",
              "        text-align: right;\n",
              "    }\n",
              "</style>\n",
              "<table border=\"1\" class=\"dataframe\">\n",
              "  <thead>\n",
              "    <tr style=\"text-align: right;\">\n",
              "      <th></th>\n",
              "      <th>articleID</th>\n",
              "      <th>articleWordCount</th>\n",
              "      <th>byline</th>\n",
              "      <th>documentType</th>\n",
              "      <th>headline</th>\n",
              "      <th>keywords</th>\n",
              "      <th>multimedia</th>\n",
              "      <th>newDesk</th>\n",
              "      <th>printPage</th>\n",
              "      <th>pubDate</th>\n",
              "      <th>sectionName</th>\n",
              "      <th>snippet</th>\n",
              "      <th>source</th>\n",
              "      <th>typeOfMaterial</th>\n",
              "      <th>webURL</th>\n",
              "    </tr>\n",
              "  </thead>\n",
              "  <tbody>\n",
              "    <tr>\n",
              "      <th>0</th>\n",
              "      <td>5adf6684068401528a2aa69b</td>\n",
              "      <td>781</td>\n",
              "      <td>By JOHN BRANCH</td>\n",
              "      <td>article</td>\n",
              "      <td>Former N.F.L. Cheerleaders’ Settlement Offer: ...</td>\n",
              "      <td>['Workplace Hazards and Violations', 'Football...</td>\n",
              "      <td>68</td>\n",
              "      <td>Sports</td>\n",
              "      <td>0</td>\n",
              "      <td>2018-04-24 17:16:49</td>\n",
              "      <td>Pro Football</td>\n",
              "      <td>“I understand that they could meet with us, pa...</td>\n",
              "      <td>The New York Times</td>\n",
              "      <td>News</td>\n",
              "      <td>https://www.nytimes.com/2018/04/24/sports/foot...</td>\n",
              "    </tr>\n",
              "    <tr>\n",
              "      <th>1</th>\n",
              "      <td>5adf653f068401528a2aa697</td>\n",
              "      <td>656</td>\n",
              "      <td>By LISA FRIEDMAN</td>\n",
              "      <td>article</td>\n",
              "      <td>E.P.A. to Unveil a New Rule. Its Effect: Less ...</td>\n",
              "      <td>['Environmental Protection Agency', 'Pruitt, S...</td>\n",
              "      <td>68</td>\n",
              "      <td>Climate</td>\n",
              "      <td>0</td>\n",
              "      <td>2018-04-24 17:11:21</td>\n",
              "      <td>Unknown</td>\n",
              "      <td>The agency plans to publish a new regulation T...</td>\n",
              "      <td>The New York Times</td>\n",
              "      <td>News</td>\n",
              "      <td>https://www.nytimes.com/2018/04/24/climate/epa...</td>\n",
              "    </tr>\n",
              "    <tr>\n",
              "      <th>2</th>\n",
              "      <td>5adf4626068401528a2aa628</td>\n",
              "      <td>2427</td>\n",
              "      <td>By PETE WELLS</td>\n",
              "      <td>article</td>\n",
              "      <td>The New Noma, Explained</td>\n",
              "      <td>['Restaurants', 'Noma (Copenhagen, Restaurant)...</td>\n",
              "      <td>66</td>\n",
              "      <td>Dining</td>\n",
              "      <td>0</td>\n",
              "      <td>2018-04-24 14:58:44</td>\n",
              "      <td>Unknown</td>\n",
              "      <td>What’s it like to eat at the second incarnatio...</td>\n",
              "      <td>The New York Times</td>\n",
              "      <td>News</td>\n",
              "      <td>https://www.nytimes.com/2018/04/24/dining/noma...</td>\n",
              "    </tr>\n",
              "    <tr>\n",
              "      <th>3</th>\n",
              "      <td>5adf40d2068401528a2aa619</td>\n",
              "      <td>626</td>\n",
              "      <td>By JULIE HIRSCHFELD DAVIS and PETER BAKER</td>\n",
              "      <td>article</td>\n",
              "      <td>Unknown</td>\n",
              "      <td>['Macron, Emmanuel (1977- )', 'Trump, Donald J...</td>\n",
              "      <td>68</td>\n",
              "      <td>Washington</td>\n",
              "      <td>0</td>\n",
              "      <td>2018-04-24 14:35:57</td>\n",
              "      <td>Europe</td>\n",
              "      <td>President Trump welcomed President Emmanuel Ma...</td>\n",
              "      <td>The New York Times</td>\n",
              "      <td>News</td>\n",
              "      <td>https://www.nytimes.com/2018/04/24/world/europ...</td>\n",
              "    </tr>\n",
              "    <tr>\n",
              "      <th>4</th>\n",
              "      <td>5adf3d64068401528a2aa60f</td>\n",
              "      <td>815</td>\n",
              "      <td>By IAN AUSTEN and DAN BILEFSKY</td>\n",
              "      <td>article</td>\n",
              "      <td>Unknown</td>\n",
              "      <td>['Toronto, Ontario, Attack (April, 2018)', 'Mu...</td>\n",
              "      <td>68</td>\n",
              "      <td>Foreign</td>\n",
              "      <td>0</td>\n",
              "      <td>2018-04-24 14:21:21</td>\n",
              "      <td>Canada</td>\n",
              "      <td>Alek Minassian, 25, a resident of Toronto’s Ri...</td>\n",
              "      <td>The New York Times</td>\n",
              "      <td>News</td>\n",
              "      <td>https://www.nytimes.com/2018/04/24/world/canad...</td>\n",
              "    </tr>\n",
              "  </tbody>\n",
              "</table>\n",
              "</div>"
            ],
            "text/plain": [
              "                  articleID  ...                                             webURL\n",
              "0  5adf6684068401528a2aa69b  ...  https://www.nytimes.com/2018/04/24/sports/foot...\n",
              "1  5adf653f068401528a2aa697  ...  https://www.nytimes.com/2018/04/24/climate/epa...\n",
              "2  5adf4626068401528a2aa628  ...  https://www.nytimes.com/2018/04/24/dining/noma...\n",
              "3  5adf40d2068401528a2aa619  ...  https://www.nytimes.com/2018/04/24/world/europ...\n",
              "4  5adf3d64068401528a2aa60f  ...  https://www.nytimes.com/2018/04/24/world/canad...\n",
              "\n",
              "[5 rows x 15 columns]"
            ]
          },
          "metadata": {
            "tags": []
          },
          "execution_count": 25
        }
      ]
    },
    {
      "cell_type": "code",
      "metadata": {
        "colab": {
          "base_uri": "https://localhost:8080/"
        },
        "id": "szPihdC7zH8Y",
        "outputId": "f3e832ba-ea73-4b99-e375-7f4ee85115ef"
      },
      "source": [
        "print('열의 개수: ',len(df.columns))\n",
        "print(df.columns)"
      ],
      "execution_count": 26,
      "outputs": [
        {
          "output_type": "stream",
          "text": [
            "열의 개수:  15\n",
            "Index(['articleID', 'articleWordCount', 'byline', 'documentType', 'headline',\n",
            "       'keywords', 'multimedia', 'newDesk', 'printPage', 'pubDate',\n",
            "       'sectionName', 'snippet', 'source', 'typeOfMaterial', 'webURL'],\n",
            "      dtype='object')\n"
          ],
          "name": "stdout"
        }
      ]
    },
    {
      "cell_type": "code",
      "metadata": {
        "colab": {
          "base_uri": "https://localhost:8080/"
        },
        "id": "FctemDB6zKCm",
        "outputId": "c3c88363-bcc0-4a17-c250-02d5b23c02ec"
      },
      "source": [
        "df['headline'].isnull().values.any()"
      ],
      "execution_count": 27,
      "outputs": [
        {
          "output_type": "execute_result",
          "data": {
            "text/plain": [
              "False"
            ]
          },
          "metadata": {
            "tags": []
          },
          "execution_count": 27
        }
      ]
    },
    {
      "cell_type": "code",
      "metadata": {
        "colab": {
          "base_uri": "https://localhost:8080/"
        },
        "id": "7eJVSe3xzMTG",
        "outputId": "cdaf50e2-2ee1-4d45-8b06-9ac2ac29f8f0"
      },
      "source": [
        "headline = [] # 리스트 선언\n",
        "headline.extend(list(df.headline.values)) # 헤드라인의 값들을 리스트로 저장\n",
        "headline[:5] # 상위 5개만 출력"
      ],
      "execution_count": 29,
      "outputs": [
        {
          "output_type": "execute_result",
          "data": {
            "text/plain": [
              "['Former N.F.L. Cheerleaders’ Settlement Offer: $1 and a Meeting With Goodell',\n",
              " 'E.P.A. to Unveil a New Rule. Its Effect: Less Science in Policymaking.',\n",
              " 'The New Noma, Explained',\n",
              " 'Unknown',\n",
              " 'Unknown']"
            ]
          },
          "metadata": {
            "tags": []
          },
          "execution_count": 29
        }
      ]
    },
    {
      "cell_type": "code",
      "metadata": {
        "colab": {
          "base_uri": "https://localhost:8080/"
        },
        "id": "QSijIqnezmlY",
        "outputId": "6427d22a-2482-4020-9164-28d712650b62"
      },
      "source": [
        "print('총 샘플의 개수 : {}'.format(len(headline))) # 현재 샘플의 개수"
      ],
      "execution_count": 30,
      "outputs": [
        {
          "output_type": "stream",
          "text": [
            "총 샘플의 개수 : 1324\n"
          ],
          "name": "stdout"
        }
      ]
    },
    {
      "cell_type": "code",
      "metadata": {
        "colab": {
          "base_uri": "https://localhost:8080/"
        },
        "id": "piR81apEzr5O",
        "outputId": "b0130572-b077-43c8-878b-fc42008fddbb"
      },
      "source": [
        "headline = [n for n in headline if n != \"Unknown\"] # Unknown 값을 가진 샘플 제거\n",
        "print('노이즈값 제거 후 샘플의 개수 : {}'.format(len(headline))) # 제거 후 샘플의 개수"
      ],
      "execution_count": 31,
      "outputs": [
        {
          "output_type": "stream",
          "text": [
            "노이즈값 제거 후 샘플의 개수 : 1214\n"
          ],
          "name": "stdout"
        }
      ]
    },
    {
      "cell_type": "code",
      "metadata": {
        "colab": {
          "base_uri": "https://localhost:8080/"
        },
        "id": "FZCefGGAzuE2",
        "outputId": "5e7d7bc7-616e-4369-8288-a12e33391277"
      },
      "source": [
        "headline[:5]"
      ],
      "execution_count": 32,
      "outputs": [
        {
          "output_type": "execute_result",
          "data": {
            "text/plain": [
              "['Former N.F.L. Cheerleaders’ Settlement Offer: $1 and a Meeting With Goodell',\n",
              " 'E.P.A. to Unveil a New Rule. Its Effect: Less Science in Policymaking.',\n",
              " 'The New Noma, Explained',\n",
              " 'How a Bag of Texas Dirt  Became a Times Tradition',\n",
              " 'Is School a Place for Self-Expression?']"
            ]
          },
          "metadata": {
            "tags": []
          },
          "execution_count": 32
        }
      ]
    },
    {
      "cell_type": "markdown",
      "metadata": {
        "id": "NCcoKbw2zyjJ"
      },
      "source": [
        "## 구두점 제거와 단어의 소문자화"
      ]
    },
    {
      "cell_type": "code",
      "metadata": {
        "colab": {
          "base_uri": "https://localhost:8080/"
        },
        "id": "ll8-N28UzvhX",
        "outputId": "6ab58147-d48a-44bf-d3fa-998df7ed6706"
      },
      "source": [
        "def repreprocessing(s):\n",
        "    s=s.encode(\"utf8\").decode(\"ascii\",'ignore')\n",
        "    return ''.join(c for c in s if c not in punctuation).lower() # 구두점 제거와 동시에 소문자화\n",
        "\n",
        "text = [repreprocessing(x) for x in headline]\n",
        "text[:5]"
      ],
      "execution_count": 33,
      "outputs": [
        {
          "output_type": "execute_result",
          "data": {
            "text/plain": [
              "['former nfl cheerleaders settlement offer 1 and a meeting with goodell',\n",
              " 'epa to unveil a new rule its effect less science in policymaking',\n",
              " 'the new noma explained',\n",
              " 'how a bag of texas dirt  became a times tradition',\n",
              " 'is school a place for selfexpression']"
            ]
          },
          "metadata": {
            "tags": []
          },
          "execution_count": 33
        }
      ]
    },
    {
      "cell_type": "code",
      "metadata": {
        "colab": {
          "base_uri": "https://localhost:8080/"
        },
        "id": "k0LffagNzyFW",
        "outputId": "d7b915fe-2029-4231-fed1-76523b513bed"
      },
      "source": [
        "t = Tokenizer()\n",
        "t.fit_on_texts(text)\n",
        "vocab_size = len(t.word_index) + 1\n",
        "print('단어 집합의 크기 : %d' % vocab_size)"
      ],
      "execution_count": 34,
      "outputs": [
        {
          "output_type": "stream",
          "text": [
            "단어 집합의 크기 : 3494\n"
          ],
          "name": "stdout"
        }
      ]
    },
    {
      "cell_type": "markdown",
      "metadata": {
        "id": "XgBzMMuz0X-H"
      },
      "source": [
        "## 2) 훈련 데이터 구성"
      ]
    },
    {
      "cell_type": "code",
      "metadata": {
        "colab": {
          "base_uri": "https://localhost:8080/"
        },
        "id": "mWacJ9420KCH",
        "outputId": "5791dcf9-8609-4910-cefd-f40e18155127"
      },
      "source": [
        "sequences = list()\n",
        "\n",
        "for line in text: # 1,214 개의 샘플에 대해서 샘플을 1개씩 가져온다.\n",
        "    encoded = t.texts_to_sequences([line])[0] # 각 샘플에 대한 정수 인코딩\n",
        "    for i in range(1, len(encoded)):\n",
        "        sequence = encoded[:i+1]\n",
        "        sequences.append(sequence)\n",
        "\n",
        "sequences[:11] # 11개의 샘플 출력"
      ],
      "execution_count": 35,
      "outputs": [
        {
          "output_type": "execute_result",
          "data": {
            "text/plain": [
              "[[99, 269],\n",
              " [99, 269, 371],\n",
              " [99, 269, 371, 1115],\n",
              " [99, 269, 371, 1115, 582],\n",
              " [99, 269, 371, 1115, 582, 52],\n",
              " [99, 269, 371, 1115, 582, 52, 7],\n",
              " [99, 269, 371, 1115, 582, 52, 7, 2],\n",
              " [99, 269, 371, 1115, 582, 52, 7, 2, 372],\n",
              " [99, 269, 371, 1115, 582, 52, 7, 2, 372, 10],\n",
              " [99, 269, 371, 1115, 582, 52, 7, 2, 372, 10, 1116],\n",
              " [100, 3]]"
            ]
          },
          "metadata": {
            "tags": []
          },
          "execution_count": 35
        }
      ]
    },
    {
      "cell_type": "code",
      "metadata": {
        "colab": {
          "base_uri": "https://localhost:8080/"
        },
        "id": "qitQDHWX0OrP",
        "outputId": "7fca236d-5d36-4805-d6b7-7d58dce25bc4"
      },
      "source": [
        "index_to_word={}\n",
        "for key, value in t.word_index.items(): # 인덱스를 단어로 바꾸기 위해 index_to_word를 생성\n",
        "    index_to_word[value] = key\n",
        "\n",
        "print('빈도수 상위 582번 단어 : {}'.format(index_to_word[582]))"
      ],
      "execution_count": 36,
      "outputs": [
        {
          "output_type": "stream",
          "text": [
            "빈도수 상위 582번 단어 : offer\n"
          ],
          "name": "stdout"
        }
      ]
    },
    {
      "cell_type": "code",
      "metadata": {
        "colab": {
          "base_uri": "https://localhost:8080/"
        },
        "id": "4HIrltDN0_Pn",
        "outputId": "49798cba-9fb8-424a-cceb-f5ba6f11f9fa"
      },
      "source": [
        "max_len=max(len(l) for l in sequences)\n",
        "print('샘플의 최대 길이 : {}'.format(max_len))"
      ],
      "execution_count": 37,
      "outputs": [
        {
          "output_type": "stream",
          "text": [
            "샘플의 최대 길이 : 24\n"
          ],
          "name": "stdout"
        }
      ]
    },
    {
      "cell_type": "code",
      "metadata": {
        "colab": {
          "base_uri": "https://localhost:8080/"
        },
        "id": "gYIhFM331CIu",
        "outputId": "785e4e38-8380-48bf-d137-ff418e4e9479"
      },
      "source": [
        "sequences = pad_sequences(sequences, maxlen=max_len, padding='pre')\n",
        "print(sequences[:3])"
      ],
      "execution_count": 38,
      "outputs": [
        {
          "output_type": "stream",
          "text": [
            "[[   0    0    0    0    0    0    0    0    0    0    0    0    0    0\n",
            "     0    0    0    0    0    0    0    0   99  269]\n",
            " [   0    0    0    0    0    0    0    0    0    0    0    0    0    0\n",
            "     0    0    0    0    0    0    0   99  269  371]\n",
            " [   0    0    0    0    0    0    0    0    0    0    0    0    0    0\n",
            "     0    0    0    0    0    0   99  269  371 1115]]\n"
          ],
          "name": "stdout"
        }
      ]
    },
    {
      "cell_type": "code",
      "metadata": {
        "id": "FmgmfYR81DxG"
      },
      "source": [
        "sequences = np.array(sequences)\n",
        "X = sequences[:,:-1]\n",
        "y = sequences[:,-1]"
      ],
      "execution_count": 39,
      "outputs": []
    },
    {
      "cell_type": "code",
      "metadata": {
        "colab": {
          "base_uri": "https://localhost:8080/"
        },
        "id": "X_dXhqQ91Fnd",
        "outputId": "6f7bf41f-5445-4f7b-9cc2-cb5df482dc8d"
      },
      "source": [
        "print(y[:3]) # 레이블"
      ],
      "execution_count": 40,
      "outputs": [
        {
          "output_type": "stream",
          "text": [
            "[ 269  371 1115]\n"
          ],
          "name": "stdout"
        }
      ]
    },
    {
      "cell_type": "code",
      "metadata": {
        "id": "8ZprjCGT1HjO"
      },
      "source": [
        "y = to_categorical(y, num_classes=vocab_size)"
      ],
      "execution_count": 41,
      "outputs": []
    },
    {
      "cell_type": "markdown",
      "metadata": {
        "id": "xZhdlHb81KBR"
      },
      "source": [
        "## 3) 모델 설계하기"
      ]
    },
    {
      "cell_type": "code",
      "metadata": {
        "id": "KxbTWlaK1If2"
      },
      "source": [
        "from tensorflow.keras.models import Sequential\n",
        "from tensorflow.keras.layers import Embedding, Dense, LSTM"
      ],
      "execution_count": 42,
      "outputs": []
    },
    {
      "cell_type": "code",
      "metadata": {
        "colab": {
          "base_uri": "https://localhost:8080/"
        },
        "id": "ZxDVgTOk1Th9",
        "outputId": "f2a36116-307c-4dd7-aea4-64a5b63c9a11"
      },
      "source": [
        "model = Sequential()\n",
        "model.add(Embedding(vocab_size, 10, input_length=max_len-1))\n",
        "# y데이터를 분리하였으므로 이제 X데이터의 길이는 기존 데이터의 길이 - 1\n",
        "model.add(LSTM(128))\n",
        "model.add(Dense(vocab_size, activation='softmax'))\n",
        "model.compile(loss='categorical_crossentropy', optimizer='adam', metrics=['accuracy'])\n",
        "model.fit(X, y, epochs=200, verbose=2)"
      ],
      "execution_count": 43,
      "outputs": [
        {
          "output_type": "stream",
          "text": [
            "Epoch 1/200\n",
            "244/244 - 29s - loss: 7.6403 - accuracy: 0.0273\n",
            "Epoch 2/200\n",
            "244/244 - 1s - loss: 7.1078 - accuracy: 0.0292\n",
            "Epoch 3/200\n",
            "244/244 - 1s - loss: 6.9694 - accuracy: 0.0375\n",
            "Epoch 4/200\n",
            "244/244 - 1s - loss: 6.8434 - accuracy: 0.0422\n",
            "Epoch 5/200\n",
            "244/244 - 1s - loss: 6.6907 - accuracy: 0.0464\n",
            "Epoch 6/200\n",
            "244/244 - 1s - loss: 6.5230 - accuracy: 0.0496\n",
            "Epoch 7/200\n",
            "244/244 - 1s - loss: 6.3387 - accuracy: 0.0542\n",
            "Epoch 8/200\n",
            "244/244 - 1s - loss: 6.1384 - accuracy: 0.0596\n",
            "Epoch 9/200\n",
            "244/244 - 1s - loss: 5.9408 - accuracy: 0.0629\n",
            "Epoch 10/200\n",
            "244/244 - 1s - loss: 5.7475 - accuracy: 0.0674\n",
            "Epoch 11/200\n",
            "244/244 - 1s - loss: 5.5644 - accuracy: 0.0728\n",
            "Epoch 12/200\n",
            "244/244 - 1s - loss: 5.3903 - accuracy: 0.0770\n",
            "Epoch 13/200\n",
            "244/244 - 1s - loss: 5.2306 - accuracy: 0.0821\n",
            "Epoch 14/200\n",
            "244/244 - 1s - loss: 5.0798 - accuracy: 0.0897\n",
            "Epoch 15/200\n",
            "244/244 - 1s - loss: 4.9354 - accuracy: 0.0983\n",
            "Epoch 16/200\n",
            "244/244 - 1s - loss: 4.7944 - accuracy: 0.1119\n",
            "Epoch 17/200\n",
            "244/244 - 1s - loss: 4.6611 - accuracy: 0.1246\n",
            "Epoch 18/200\n",
            "244/244 - 1s - loss: 4.5338 - accuracy: 0.1358\n",
            "Epoch 19/200\n",
            "244/244 - 1s - loss: 4.4099 - accuracy: 0.1512\n",
            "Epoch 20/200\n",
            "244/244 - 1s - loss: 4.2893 - accuracy: 0.1708\n",
            "Epoch 21/200\n",
            "244/244 - 1s - loss: 4.1716 - accuracy: 0.1892\n",
            "Epoch 22/200\n",
            "244/244 - 1s - loss: 4.0633 - accuracy: 0.1997\n",
            "Epoch 23/200\n",
            "244/244 - 1s - loss: 3.9527 - accuracy: 0.2215\n",
            "Epoch 24/200\n",
            "244/244 - 1s - loss: 3.8498 - accuracy: 0.2364\n",
            "Epoch 25/200\n",
            "244/244 - 1s - loss: 3.7503 - accuracy: 0.2561\n",
            "Epoch 26/200\n",
            "244/244 - 1s - loss: 3.6524 - accuracy: 0.2737\n",
            "Epoch 27/200\n",
            "244/244 - 1s - loss: 3.5609 - accuracy: 0.2817\n",
            "Epoch 28/200\n",
            "244/244 - 1s - loss: 3.4657 - accuracy: 0.3000\n",
            "Epoch 29/200\n",
            "244/244 - 1s - loss: 3.3792 - accuracy: 0.3199\n",
            "Epoch 30/200\n",
            "244/244 - 1s - loss: 3.2981 - accuracy: 0.3332\n",
            "Epoch 31/200\n",
            "244/244 - 1s - loss: 3.2155 - accuracy: 0.3459\n",
            "Epoch 32/200\n",
            "244/244 - 1s - loss: 3.1381 - accuracy: 0.3623\n",
            "Epoch 33/200\n",
            "244/244 - 1s - loss: 3.0612 - accuracy: 0.3800\n",
            "Epoch 34/200\n",
            "244/244 - 1s - loss: 2.9895 - accuracy: 0.3891\n",
            "Epoch 35/200\n",
            "244/244 - 1s - loss: 2.9189 - accuracy: 0.4016\n",
            "Epoch 36/200\n",
            "244/244 - 1s - loss: 2.8528 - accuracy: 0.4168\n",
            "Epoch 37/200\n",
            "244/244 - 1s - loss: 2.7857 - accuracy: 0.4259\n",
            "Epoch 38/200\n",
            "244/244 - 1s - loss: 2.7238 - accuracy: 0.4407\n",
            "Epoch 39/200\n",
            "244/244 - 1s - loss: 2.6646 - accuracy: 0.4482\n",
            "Epoch 40/200\n",
            "244/244 - 1s - loss: 2.6035 - accuracy: 0.4628\n",
            "Epoch 41/200\n",
            "244/244 - 1s - loss: 2.5466 - accuracy: 0.4758\n",
            "Epoch 42/200\n",
            "244/244 - 1s - loss: 2.4948 - accuracy: 0.4846\n",
            "Epoch 43/200\n",
            "244/244 - 1s - loss: 2.4400 - accuracy: 0.4943\n",
            "Epoch 44/200\n",
            "244/244 - 1s - loss: 2.3855 - accuracy: 0.5069\n",
            "Epoch 45/200\n",
            "244/244 - 1s - loss: 2.3347 - accuracy: 0.5153\n",
            "Epoch 46/200\n",
            "244/244 - 1s - loss: 2.2887 - accuracy: 0.5230\n",
            "Epoch 47/200\n",
            "244/244 - 1s - loss: 2.2375 - accuracy: 0.5324\n",
            "Epoch 48/200\n",
            "244/244 - 1s - loss: 2.1928 - accuracy: 0.5430\n",
            "Epoch 49/200\n",
            "244/244 - 1s - loss: 2.1438 - accuracy: 0.5532\n",
            "Epoch 50/200\n",
            "244/244 - 1s - loss: 2.1040 - accuracy: 0.5648\n",
            "Epoch 51/200\n",
            "244/244 - 1s - loss: 2.0573 - accuracy: 0.5722\n",
            "Epoch 52/200\n",
            "244/244 - 1s - loss: 2.0133 - accuracy: 0.5818\n",
            "Epoch 53/200\n",
            "244/244 - 1s - loss: 1.9711 - accuracy: 0.5948\n",
            "Epoch 54/200\n",
            "244/244 - 1s - loss: 1.9306 - accuracy: 0.6032\n",
            "Epoch 55/200\n",
            "244/244 - 1s - loss: 1.8899 - accuracy: 0.6126\n",
            "Epoch 56/200\n",
            "244/244 - 1s - loss: 1.8525 - accuracy: 0.6189\n",
            "Epoch 57/200\n",
            "244/244 - 1s - loss: 1.8114 - accuracy: 0.6260\n",
            "Epoch 58/200\n",
            "244/244 - 1s - loss: 1.7749 - accuracy: 0.6345\n",
            "Epoch 59/200\n",
            "244/244 - 1s - loss: 1.7421 - accuracy: 0.6441\n",
            "Epoch 60/200\n",
            "244/244 - 1s - loss: 1.7046 - accuracy: 0.6514\n",
            "Epoch 61/200\n",
            "244/244 - 1s - loss: 1.6674 - accuracy: 0.6592\n",
            "Epoch 62/200\n",
            "244/244 - 1s - loss: 1.6334 - accuracy: 0.6691\n",
            "Epoch 63/200\n",
            "244/244 - 1s - loss: 1.5972 - accuracy: 0.6705\n",
            "Epoch 64/200\n",
            "244/244 - 1s - loss: 1.5639 - accuracy: 0.6801\n",
            "Epoch 65/200\n",
            "244/244 - 1s - loss: 1.5330 - accuracy: 0.6895\n",
            "Epoch 66/200\n",
            "244/244 - 1s - loss: 1.5004 - accuracy: 0.6914\n",
            "Epoch 67/200\n",
            "244/244 - 1s - loss: 1.4684 - accuracy: 0.7022\n",
            "Epoch 68/200\n",
            "244/244 - 1s - loss: 1.4398 - accuracy: 0.7047\n",
            "Epoch 69/200\n",
            "244/244 - 1s - loss: 1.4076 - accuracy: 0.7170\n",
            "Epoch 70/200\n",
            "244/244 - 1s - loss: 1.3789 - accuracy: 0.7236\n",
            "Epoch 71/200\n",
            "244/244 - 1s - loss: 1.3499 - accuracy: 0.7277\n",
            "Epoch 72/200\n",
            "244/244 - 1s - loss: 1.3213 - accuracy: 0.7319\n",
            "Epoch 73/200\n",
            "244/244 - 1s - loss: 1.2941 - accuracy: 0.7407\n",
            "Epoch 74/200\n",
            "244/244 - 1s - loss: 1.2649 - accuracy: 0.7461\n",
            "Epoch 75/200\n",
            "244/244 - 1s - loss: 1.2425 - accuracy: 0.7496\n",
            "Epoch 76/200\n",
            "244/244 - 1s - loss: 1.2125 - accuracy: 0.7582\n",
            "Epoch 77/200\n",
            "244/244 - 1s - loss: 1.1874 - accuracy: 0.7616\n",
            "Epoch 78/200\n",
            "244/244 - 1s - loss: 1.1640 - accuracy: 0.7668\n",
            "Epoch 79/200\n",
            "244/244 - 1s - loss: 1.1393 - accuracy: 0.7709\n",
            "Epoch 80/200\n",
            "244/244 - 1s - loss: 1.1159 - accuracy: 0.7764\n",
            "Epoch 81/200\n",
            "244/244 - 1s - loss: 1.0931 - accuracy: 0.7801\n",
            "Epoch 82/200\n",
            "244/244 - 1s - loss: 1.0689 - accuracy: 0.7869\n",
            "Epoch 83/200\n",
            "244/244 - 1s - loss: 1.0463 - accuracy: 0.7896\n",
            "Epoch 84/200\n",
            "244/244 - 1s - loss: 1.0235 - accuracy: 0.7948\n",
            "Epoch 85/200\n",
            "244/244 - 1s - loss: 1.0041 - accuracy: 0.7993\n",
            "Epoch 86/200\n",
            "244/244 - 1s - loss: 0.9828 - accuracy: 0.8003\n",
            "Epoch 87/200\n",
            "244/244 - 1s - loss: 0.9616 - accuracy: 0.8087\n",
            "Epoch 88/200\n",
            "244/244 - 1s - loss: 0.9441 - accuracy: 0.8117\n",
            "Epoch 89/200\n",
            "244/244 - 1s - loss: 0.9236 - accuracy: 0.8130\n",
            "Epoch 90/200\n",
            "244/244 - 1s - loss: 0.9038 - accuracy: 0.8184\n",
            "Epoch 91/200\n",
            "244/244 - 1s - loss: 0.8845 - accuracy: 0.8253\n",
            "Epoch 92/200\n",
            "244/244 - 1s - loss: 0.8670 - accuracy: 0.8293\n",
            "Epoch 93/200\n",
            "244/244 - 1s - loss: 0.8503 - accuracy: 0.8304\n",
            "Epoch 94/200\n",
            "244/244 - 1s - loss: 0.8308 - accuracy: 0.8351\n",
            "Epoch 95/200\n",
            "244/244 - 1s - loss: 0.8212 - accuracy: 0.8338\n",
            "Epoch 96/200\n",
            "244/244 - 1s - loss: 0.8004 - accuracy: 0.8393\n",
            "Epoch 97/200\n",
            "244/244 - 1s - loss: 0.7841 - accuracy: 0.8413\n",
            "Epoch 98/200\n",
            "244/244 - 1s - loss: 0.7671 - accuracy: 0.8466\n",
            "Epoch 99/200\n",
            "244/244 - 1s - loss: 0.7532 - accuracy: 0.8472\n",
            "Epoch 100/200\n",
            "244/244 - 1s - loss: 0.7383 - accuracy: 0.8511\n",
            "Epoch 101/200\n",
            "244/244 - 1s - loss: 0.7267 - accuracy: 0.8535\n",
            "Epoch 102/200\n",
            "244/244 - 1s - loss: 0.7102 - accuracy: 0.8572\n",
            "Epoch 103/200\n",
            "244/244 - 1s - loss: 0.6957 - accuracy: 0.8579\n",
            "Epoch 104/200\n",
            "244/244 - 1s - loss: 0.6825 - accuracy: 0.8604\n",
            "Epoch 105/200\n",
            "244/244 - 1s - loss: 0.6694 - accuracy: 0.8617\n",
            "Epoch 106/200\n",
            "244/244 - 1s - loss: 0.6624 - accuracy: 0.8627\n",
            "Epoch 107/200\n",
            "244/244 - 1s - loss: 0.6485 - accuracy: 0.8686\n",
            "Epoch 108/200\n",
            "244/244 - 1s - loss: 0.6315 - accuracy: 0.8695\n",
            "Epoch 109/200\n",
            "244/244 - 1s - loss: 0.6207 - accuracy: 0.8708\n",
            "Epoch 110/200\n",
            "244/244 - 1s - loss: 0.6110 - accuracy: 0.8721\n",
            "Epoch 111/200\n",
            "244/244 - 1s - loss: 0.5988 - accuracy: 0.8734\n",
            "Epoch 112/200\n",
            "244/244 - 1s - loss: 0.5873 - accuracy: 0.8779\n",
            "Epoch 113/200\n",
            "244/244 - 1s - loss: 0.5754 - accuracy: 0.8806\n",
            "Epoch 114/200\n",
            "244/244 - 1s - loss: 0.5675 - accuracy: 0.8803\n",
            "Epoch 115/200\n",
            "244/244 - 1s - loss: 0.5610 - accuracy: 0.8817\n",
            "Epoch 116/200\n",
            "244/244 - 1s - loss: 0.5481 - accuracy: 0.8836\n",
            "Epoch 117/200\n",
            "244/244 - 1s - loss: 0.5373 - accuracy: 0.8868\n",
            "Epoch 118/200\n",
            "244/244 - 1s - loss: 0.5276 - accuracy: 0.8866\n",
            "Epoch 119/200\n",
            "244/244 - 1s - loss: 0.5169 - accuracy: 0.8907\n",
            "Epoch 120/200\n",
            "244/244 - 1s - loss: 0.5067 - accuracy: 0.8923\n",
            "Epoch 121/200\n",
            "244/244 - 1s - loss: 0.4987 - accuracy: 0.8952\n",
            "Epoch 122/200\n",
            "244/244 - 1s - loss: 0.4912 - accuracy: 0.8959\n",
            "Epoch 123/200\n",
            "244/244 - 1s - loss: 0.4828 - accuracy: 0.8971\n",
            "Epoch 124/200\n",
            "244/244 - 1s - loss: 0.4783 - accuracy: 0.8968\n",
            "Epoch 125/200\n",
            "244/244 - 1s - loss: 0.4677 - accuracy: 0.8999\n",
            "Epoch 126/200\n",
            "244/244 - 1s - loss: 0.4600 - accuracy: 0.9000\n",
            "Epoch 127/200\n",
            "244/244 - 1s - loss: 0.4510 - accuracy: 0.8997\n",
            "Epoch 128/200\n",
            "244/244 - 1s - loss: 0.4453 - accuracy: 0.9023\n",
            "Epoch 129/200\n",
            "244/244 - 1s - loss: 0.4393 - accuracy: 0.9045\n",
            "Epoch 130/200\n",
            "244/244 - 1s - loss: 0.4315 - accuracy: 0.9050\n",
            "Epoch 131/200\n",
            "244/244 - 1s - loss: 0.4238 - accuracy: 0.9063\n",
            "Epoch 132/200\n",
            "244/244 - 1s - loss: 0.4181 - accuracy: 0.9058\n",
            "Epoch 133/200\n",
            "244/244 - 1s - loss: 0.4132 - accuracy: 0.9076\n",
            "Epoch 134/200\n",
            "244/244 - 1s - loss: 0.4056 - accuracy: 0.9091\n",
            "Epoch 135/200\n",
            "244/244 - 1s - loss: 0.4006 - accuracy: 0.9093\n",
            "Epoch 136/200\n",
            "244/244 - 1s - loss: 0.3954 - accuracy: 0.9081\n",
            "Epoch 137/200\n",
            "244/244 - 1s - loss: 0.3887 - accuracy: 0.9089\n",
            "Epoch 138/200\n",
            "244/244 - 1s - loss: 0.3833 - accuracy: 0.9090\n",
            "Epoch 139/200\n",
            "244/244 - 1s - loss: 0.3783 - accuracy: 0.9116\n",
            "Epoch 140/200\n",
            "244/244 - 1s - loss: 0.3782 - accuracy: 0.9105\n",
            "Epoch 141/200\n",
            "244/244 - 1s - loss: 0.3770 - accuracy: 0.9109\n",
            "Epoch 142/200\n",
            "244/244 - 1s - loss: 0.3837 - accuracy: 0.9129\n",
            "Epoch 143/200\n",
            "244/244 - 1s - loss: 0.3678 - accuracy: 0.9122\n",
            "Epoch 144/200\n",
            "244/244 - 1s - loss: 0.3570 - accuracy: 0.9121\n",
            "Epoch 145/200\n",
            "244/244 - 1s - loss: 0.3492 - accuracy: 0.9140\n",
            "Epoch 146/200\n",
            "244/244 - 1s - loss: 0.3468 - accuracy: 0.9129\n",
            "Epoch 147/200\n",
            "244/244 - 1s - loss: 0.3440 - accuracy: 0.9158\n",
            "Epoch 148/200\n",
            "244/244 - 1s - loss: 0.3611 - accuracy: 0.9121\n",
            "Epoch 149/200\n",
            "244/244 - 1s - loss: 0.3489 - accuracy: 0.9127\n",
            "Epoch 150/200\n",
            "244/244 - 1s - loss: 0.3358 - accuracy: 0.9154\n",
            "Epoch 151/200\n",
            "244/244 - 1s - loss: 0.3304 - accuracy: 0.9154\n",
            "Epoch 152/200\n",
            "244/244 - 1s - loss: 0.3269 - accuracy: 0.9159\n",
            "Epoch 153/200\n",
            "244/244 - 1s - loss: 0.3258 - accuracy: 0.9150\n",
            "Epoch 154/200\n",
            "244/244 - 1s - loss: 0.3225 - accuracy: 0.9162\n",
            "Epoch 155/200\n",
            "244/244 - 1s - loss: 0.3219 - accuracy: 0.9153\n",
            "Epoch 156/200\n",
            "244/244 - 1s - loss: 0.3183 - accuracy: 0.9150\n",
            "Epoch 157/200\n",
            "244/244 - 1s - loss: 0.3170 - accuracy: 0.9144\n",
            "Epoch 158/200\n",
            "244/244 - 1s - loss: 0.3212 - accuracy: 0.9161\n",
            "Epoch 159/200\n",
            "244/244 - 1s - loss: 0.3257 - accuracy: 0.9130\n",
            "Epoch 160/200\n",
            "244/244 - 1s - loss: 0.3127 - accuracy: 0.9163\n",
            "Epoch 161/200\n",
            "244/244 - 1s - loss: 0.3059 - accuracy: 0.9162\n",
            "Epoch 162/200\n",
            "244/244 - 1s - loss: 0.3041 - accuracy: 0.9159\n",
            "Epoch 163/200\n",
            "244/244 - 1s - loss: 0.3032 - accuracy: 0.9167\n",
            "Epoch 164/200\n",
            "244/244 - 1s - loss: 0.3022 - accuracy: 0.9155\n",
            "Epoch 165/200\n",
            "244/244 - 1s - loss: 0.3001 - accuracy: 0.9168\n",
            "Epoch 166/200\n",
            "244/244 - 1s - loss: 0.3107 - accuracy: 0.9143\n",
            "Epoch 167/200\n",
            "244/244 - 1s - loss: 0.3029 - accuracy: 0.9164\n",
            "Epoch 168/200\n",
            "244/244 - 1s - loss: 0.2977 - accuracy: 0.9143\n",
            "Epoch 169/200\n",
            "244/244 - 1s - loss: 0.2927 - accuracy: 0.9164\n",
            "Epoch 170/200\n",
            "244/244 - 1s - loss: 0.2911 - accuracy: 0.9167\n",
            "Epoch 171/200\n",
            "244/244 - 1s - loss: 0.2916 - accuracy: 0.9155\n",
            "Epoch 172/200\n",
            "244/244 - 1s - loss: 0.2902 - accuracy: 0.9182\n",
            "Epoch 173/200\n",
            "244/244 - 1s - loss: 0.2880 - accuracy: 0.9155\n",
            "Epoch 174/200\n",
            "244/244 - 1s - loss: 0.2865 - accuracy: 0.9164\n",
            "Epoch 175/200\n",
            "244/244 - 1s - loss: 0.2843 - accuracy: 0.9172\n",
            "Epoch 176/200\n",
            "244/244 - 1s - loss: 0.2889 - accuracy: 0.9154\n",
            "Epoch 177/200\n",
            "244/244 - 1s - loss: 0.2969 - accuracy: 0.9154\n",
            "Epoch 178/200\n",
            "244/244 - 1s - loss: 0.3017 - accuracy: 0.9159\n",
            "Epoch 179/200\n",
            "244/244 - 1s - loss: 0.2883 - accuracy: 0.9162\n",
            "Epoch 180/200\n",
            "244/244 - 1s - loss: 0.2832 - accuracy: 0.9179\n",
            "Epoch 181/200\n",
            "244/244 - 1s - loss: 0.2790 - accuracy: 0.9158\n",
            "Epoch 182/200\n",
            "244/244 - 1s - loss: 0.2784 - accuracy: 0.9153\n",
            "Epoch 183/200\n",
            "244/244 - 1s - loss: 0.2765 - accuracy: 0.9159\n",
            "Epoch 184/200\n",
            "244/244 - 1s - loss: 0.2762 - accuracy: 0.9159\n",
            "Epoch 185/200\n",
            "244/244 - 1s - loss: 0.2763 - accuracy: 0.9167\n",
            "Epoch 186/200\n",
            "244/244 - 1s - loss: 0.2752 - accuracy: 0.9161\n",
            "Epoch 187/200\n",
            "244/244 - 1s - loss: 0.2754 - accuracy: 0.9159\n",
            "Epoch 188/200\n",
            "244/244 - 1s - loss: 0.2737 - accuracy: 0.9176\n",
            "Epoch 189/200\n",
            "244/244 - 1s - loss: 0.2723 - accuracy: 0.9179\n",
            "Epoch 190/200\n",
            "244/244 - 1s - loss: 0.2744 - accuracy: 0.9153\n",
            "Epoch 191/200\n",
            "244/244 - 1s - loss: 0.2714 - accuracy: 0.9172\n",
            "Epoch 192/200\n",
            "244/244 - 1s - loss: 0.2752 - accuracy: 0.9145\n",
            "Epoch 193/200\n",
            "244/244 - 1s - loss: 0.2734 - accuracy: 0.9168\n",
            "Epoch 194/200\n",
            "244/244 - 1s - loss: 0.2704 - accuracy: 0.9168\n",
            "Epoch 195/200\n",
            "244/244 - 1s - loss: 0.2709 - accuracy: 0.9157\n",
            "Epoch 196/200\n",
            "244/244 - 1s - loss: 0.2704 - accuracy: 0.9172\n",
            "Epoch 197/200\n",
            "244/244 - 1s - loss: 0.2719 - accuracy: 0.9157\n",
            "Epoch 198/200\n",
            "244/244 - 1s - loss: 0.3698 - accuracy: 0.8959\n",
            "Epoch 199/200\n",
            "244/244 - 1s - loss: 0.2844 - accuracy: 0.9153\n",
            "Epoch 200/200\n",
            "244/244 - 1s - loss: 0.2685 - accuracy: 0.9157\n"
          ],
          "name": "stdout"
        },
        {
          "output_type": "execute_result",
          "data": {
            "text/plain": [
              "<tensorflow.python.keras.callbacks.History at 0x7f2fee8482d0>"
            ]
          },
          "metadata": {
            "tags": []
          },
          "execution_count": 43
        }
      ]
    },
    {
      "cell_type": "code",
      "metadata": {
        "id": "TsS-6_wM1WjO"
      },
      "source": [
        "def sentence_generation(model, t, current_word, n): # 모델, 토크나이저, 현재 단어, 반복할 횟수\n",
        "    init_word = current_word # 처음 들어온 단어도 마지막에 같이 출력하기위해 저장\n",
        "    sentence = ''\n",
        "    for _ in range(n): # n번 반복\n",
        "        encoded = t.texts_to_sequences([current_word])[0] # 현재 단어에 대한 정수 인코딩\n",
        "        encoded = pad_sequences([encoded], maxlen=23, padding='pre') # 데이터에 대한 패딩\n",
        "        result = np.argmax(model.predict(encoded), axis=-1)\n",
        "    # 입력한 X(현재 단어)에 대해서 y를 예측하고 y(예측한 단어)를 result에 저장.\n",
        "        for word, index in t.word_index.items(): \n",
        "            if index == result: # 만약 예측한 단어와 인덱스와 동일한 단어가 있다면\n",
        "                break # 해당 단어가 예측 단어이므로 break\n",
        "        current_word = current_word + ' '  + word # 현재 단어 + ' ' + 예측 단어를 현재 단어로 변경\n",
        "        sentence = sentence + ' ' + word # 예측 단어를 문장에 저장\n",
        "    # for문이므로 이 행동을 다시 반복\n",
        "    sentence = init_word + sentence\n",
        "    return sentence"
      ],
      "execution_count": 53,
      "outputs": []
    },
    {
      "cell_type": "code",
      "metadata": {
        "colab": {
          "base_uri": "https://localhost:8080/"
        },
        "id": "pTYGtPXR1hMM",
        "outputId": "4db22c39-c426-4626-8f52-ff88a8e42638"
      },
      "source": [
        "print(sentence_generation(model, t, 'i', 10))\n",
        "# 임의의 단어 'i'에 대해서 10개의 단어를 추가 생성"
      ],
      "execution_count": 54,
      "outputs": [
        {
          "output_type": "stream",
          "text": [
            "i cant jump ship from facebook yet control and control cheerleaders\n"
          ],
          "name": "stdout"
        }
      ]
    },
    {
      "cell_type": "code",
      "metadata": {
        "id": "4m8-nxs33UNw"
      },
      "source": [
        ""
      ],
      "execution_count": null,
      "outputs": []
    }
  ]
}